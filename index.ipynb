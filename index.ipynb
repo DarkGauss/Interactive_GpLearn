{
 "cells": [
  {
   "cell_type": "code",
   "execution_count": 1,
   "metadata": {},
   "outputs": [],
   "source": [
    "# Imports for gplearn and pydotplus in order to see graph view"
   ]
  },
  {
   "cell_type": "code",
   "execution_count": 2,
   "metadata": {},
   "outputs": [
    {
     "data": {
      "text/html": [
       "\n",
       "    <div class=\"bk-root\">\n",
       "        <a href=\"https://bokeh.pydata.org\" target=\"_blank\" class=\"bk-logo bk-logo-small bk-logo-notebook\"></a>\n",
       "        <span id=\"1001\">Loading BokehJS ...</span>\n",
       "    </div>"
      ]
     },
     "metadata": {},
     "output_type": "display_data"
    },
    {
     "data": {
      "application/javascript": [
       "\n",
       "(function(root) {\n",
       "  function now() {\n",
       "    return new Date();\n",
       "  }\n",
       "\n",
       "  var force = true;\n",
       "\n",
       "  if (typeof (root._bokeh_onload_callbacks) === \"undefined\" || force === true) {\n",
       "    root._bokeh_onload_callbacks = [];\n",
       "    root._bokeh_is_loading = undefined;\n",
       "  }\n",
       "\n",
       "  var JS_MIME_TYPE = 'application/javascript';\n",
       "  var HTML_MIME_TYPE = 'text/html';\n",
       "  var EXEC_MIME_TYPE = 'application/vnd.bokehjs_exec.v0+json';\n",
       "  var CLASS_NAME = 'output_bokeh rendered_html';\n",
       "\n",
       "  /**\n",
       "   * Render data to the DOM node\n",
       "   */\n",
       "  function render(props, node) {\n",
       "    var script = document.createElement(\"script\");\n",
       "    node.appendChild(script);\n",
       "  }\n",
       "\n",
       "  /**\n",
       "   * Handle when an output is cleared or removed\n",
       "   */\n",
       "  function handleClearOutput(event, handle) {\n",
       "    var cell = handle.cell;\n",
       "\n",
       "    var id = cell.output_area._bokeh_element_id;\n",
       "    var server_id = cell.output_area._bokeh_server_id;\n",
       "    // Clean up Bokeh references\n",
       "    if (id != null && id in Bokeh.index) {\n",
       "      Bokeh.index[id].model.document.clear();\n",
       "      delete Bokeh.index[id];\n",
       "    }\n",
       "\n",
       "    if (server_id !== undefined) {\n",
       "      // Clean up Bokeh references\n",
       "      var cmd = \"from bokeh.io.state import curstate; print(curstate().uuid_to_server['\" + server_id + \"'].get_sessions()[0].document.roots[0]._id)\";\n",
       "      cell.notebook.kernel.execute(cmd, {\n",
       "        iopub: {\n",
       "          output: function(msg) {\n",
       "            var id = msg.content.text.trim();\n",
       "            if (id in Bokeh.index) {\n",
       "              Bokeh.index[id].model.document.clear();\n",
       "              delete Bokeh.index[id];\n",
       "            }\n",
       "          }\n",
       "        }\n",
       "      });\n",
       "      // Destroy server and session\n",
       "      var cmd = \"import bokeh.io.notebook as ion; ion.destroy_server('\" + server_id + \"')\";\n",
       "      cell.notebook.kernel.execute(cmd);\n",
       "    }\n",
       "  }\n",
       "\n",
       "  /**\n",
       "   * Handle when a new output is added\n",
       "   */\n",
       "  function handleAddOutput(event, handle) {\n",
       "    var output_area = handle.output_area;\n",
       "    var output = handle.output;\n",
       "\n",
       "    // limit handleAddOutput to display_data with EXEC_MIME_TYPE content only\n",
       "    if ((output.output_type != \"display_data\") || (!output.data.hasOwnProperty(EXEC_MIME_TYPE))) {\n",
       "      return\n",
       "    }\n",
       "\n",
       "    var toinsert = output_area.element.find(\".\" + CLASS_NAME.split(' ')[0]);\n",
       "\n",
       "    if (output.metadata[EXEC_MIME_TYPE][\"id\"] !== undefined) {\n",
       "      toinsert[toinsert.length - 1].firstChild.textContent = output.data[JS_MIME_TYPE];\n",
       "      // store reference to embed id on output_area\n",
       "      output_area._bokeh_element_id = output.metadata[EXEC_MIME_TYPE][\"id\"];\n",
       "    }\n",
       "    if (output.metadata[EXEC_MIME_TYPE][\"server_id\"] !== undefined) {\n",
       "      var bk_div = document.createElement(\"div\");\n",
       "      bk_div.innerHTML = output.data[HTML_MIME_TYPE];\n",
       "      var script_attrs = bk_div.children[0].attributes;\n",
       "      for (var i = 0; i < script_attrs.length; i++) {\n",
       "        toinsert[toinsert.length - 1].firstChild.setAttribute(script_attrs[i].name, script_attrs[i].value);\n",
       "      }\n",
       "      // store reference to server id on output_area\n",
       "      output_area._bokeh_server_id = output.metadata[EXEC_MIME_TYPE][\"server_id\"];\n",
       "    }\n",
       "  }\n",
       "\n",
       "  function register_renderer(events, OutputArea) {\n",
       "\n",
       "    function append_mime(data, metadata, element) {\n",
       "      // create a DOM node to render to\n",
       "      var toinsert = this.create_output_subarea(\n",
       "        metadata,\n",
       "        CLASS_NAME,\n",
       "        EXEC_MIME_TYPE\n",
       "      );\n",
       "      this.keyboard_manager.register_events(toinsert);\n",
       "      // Render to node\n",
       "      var props = {data: data, metadata: metadata[EXEC_MIME_TYPE]};\n",
       "      render(props, toinsert[toinsert.length - 1]);\n",
       "      element.append(toinsert);\n",
       "      return toinsert\n",
       "    }\n",
       "\n",
       "    /* Handle when an output is cleared or removed */\n",
       "    events.on('clear_output.CodeCell', handleClearOutput);\n",
       "    events.on('delete.Cell', handleClearOutput);\n",
       "\n",
       "    /* Handle when a new output is added */\n",
       "    events.on('output_added.OutputArea', handleAddOutput);\n",
       "\n",
       "    /**\n",
       "     * Register the mime type and append_mime function with output_area\n",
       "     */\n",
       "    OutputArea.prototype.register_mime_type(EXEC_MIME_TYPE, append_mime, {\n",
       "      /* Is output safe? */\n",
       "      safe: true,\n",
       "      /* Index of renderer in `output_area.display_order` */\n",
       "      index: 0\n",
       "    });\n",
       "  }\n",
       "\n",
       "  // register the mime type if in Jupyter Notebook environment and previously unregistered\n",
       "  if (root.Jupyter !== undefined) {\n",
       "    var events = require('base/js/events');\n",
       "    var OutputArea = require('notebook/js/outputarea').OutputArea;\n",
       "\n",
       "    if (OutputArea.prototype.mime_types().indexOf(EXEC_MIME_TYPE) == -1) {\n",
       "      register_renderer(events, OutputArea);\n",
       "    }\n",
       "  }\n",
       "\n",
       "  \n",
       "  if (typeof (root._bokeh_timeout) === \"undefined\" || force === true) {\n",
       "    root._bokeh_timeout = Date.now() + 5000;\n",
       "    root._bokeh_failed_load = false;\n",
       "  }\n",
       "\n",
       "  var NB_LOAD_WARNING = {'data': {'text/html':\n",
       "     \"<div style='background-color: #fdd'>\\n\"+\n",
       "     \"<p>\\n\"+\n",
       "     \"BokehJS does not appear to have successfully loaded. If loading BokehJS from CDN, this \\n\"+\n",
       "     \"may be due to a slow or bad network connection. Possible fixes:\\n\"+\n",
       "     \"</p>\\n\"+\n",
       "     \"<ul>\\n\"+\n",
       "     \"<li>re-rerun `output_notebook()` to attempt to load from CDN again, or</li>\\n\"+\n",
       "     \"<li>use INLINE resources instead, as so:</li>\\n\"+\n",
       "     \"</ul>\\n\"+\n",
       "     \"<code>\\n\"+\n",
       "     \"from bokeh.resources import INLINE\\n\"+\n",
       "     \"output_notebook(resources=INLINE)\\n\"+\n",
       "     \"</code>\\n\"+\n",
       "     \"</div>\"}};\n",
       "\n",
       "  function display_loaded() {\n",
       "    var el = document.getElementById(\"1001\");\n",
       "    if (el != null) {\n",
       "      el.textContent = \"BokehJS is loading...\";\n",
       "    }\n",
       "    if (root.Bokeh !== undefined) {\n",
       "      if (el != null) {\n",
       "        el.textContent = \"BokehJS \" + root.Bokeh.version + \" successfully loaded.\";\n",
       "      }\n",
       "    } else if (Date.now() < root._bokeh_timeout) {\n",
       "      setTimeout(display_loaded, 100)\n",
       "    }\n",
       "  }\n",
       "\n",
       "\n",
       "  function run_callbacks() {\n",
       "    try {\n",
       "      root._bokeh_onload_callbacks.forEach(function(callback) { callback() });\n",
       "    }\n",
       "    finally {\n",
       "      delete root._bokeh_onload_callbacks\n",
       "    }\n",
       "    console.info(\"Bokeh: all callbacks have finished\");\n",
       "  }\n",
       "\n",
       "  function load_libs(js_urls, callback) {\n",
       "    root._bokeh_onload_callbacks.push(callback);\n",
       "    if (root._bokeh_is_loading > 0) {\n",
       "      console.log(\"Bokeh: BokehJS is being loaded, scheduling callback at\", now());\n",
       "      return null;\n",
       "    }\n",
       "    if (js_urls == null || js_urls.length === 0) {\n",
       "      run_callbacks();\n",
       "      return null;\n",
       "    }\n",
       "    console.log(\"Bokeh: BokehJS not loaded, scheduling load and callback at\", now());\n",
       "    root._bokeh_is_loading = js_urls.length;\n",
       "    for (var i = 0; i < js_urls.length; i++) {\n",
       "      var url = js_urls[i];\n",
       "      var s = document.createElement('script');\n",
       "      s.src = url;\n",
       "      s.async = false;\n",
       "      s.onreadystatechange = s.onload = function() {\n",
       "        root._bokeh_is_loading--;\n",
       "        if (root._bokeh_is_loading === 0) {\n",
       "          console.log(\"Bokeh: all BokehJS libraries loaded\");\n",
       "          run_callbacks()\n",
       "        }\n",
       "      };\n",
       "      s.onerror = function() {\n",
       "        console.warn(\"failed to load library \" + url);\n",
       "      };\n",
       "      console.log(\"Bokeh: injecting script tag for BokehJS library: \", url);\n",
       "      document.getElementsByTagName(\"head\")[0].appendChild(s);\n",
       "    }\n",
       "  };var element = document.getElementById(\"1001\");\n",
       "  if (element == null) {\n",
       "    console.log(\"Bokeh: ERROR: autoload.js configured with elementid '1001' but no matching script tag was found. \")\n",
       "    return false;\n",
       "  }\n",
       "\n",
       "  var js_urls = [\"https://cdn.pydata.org/bokeh/release/bokeh-1.0.4.min.js\", \"https://cdn.pydata.org/bokeh/release/bokeh-widgets-1.0.4.min.js\", \"https://cdn.pydata.org/bokeh/release/bokeh-tables-1.0.4.min.js\", \"https://cdn.pydata.org/bokeh/release/bokeh-gl-1.0.4.min.js\"];\n",
       "\n",
       "  var inline_js = [\n",
       "    function(Bokeh) {\n",
       "      Bokeh.set_log_level(\"info\");\n",
       "    },\n",
       "    \n",
       "    function(Bokeh) {\n",
       "      \n",
       "    },\n",
       "    function(Bokeh) {\n",
       "      console.log(\"Bokeh: injecting CSS: https://cdn.pydata.org/bokeh/release/bokeh-1.0.4.min.css\");\n",
       "      Bokeh.embed.inject_css(\"https://cdn.pydata.org/bokeh/release/bokeh-1.0.4.min.css\");\n",
       "      console.log(\"Bokeh: injecting CSS: https://cdn.pydata.org/bokeh/release/bokeh-widgets-1.0.4.min.css\");\n",
       "      Bokeh.embed.inject_css(\"https://cdn.pydata.org/bokeh/release/bokeh-widgets-1.0.4.min.css\");\n",
       "      console.log(\"Bokeh: injecting CSS: https://cdn.pydata.org/bokeh/release/bokeh-tables-1.0.4.min.css\");\n",
       "      Bokeh.embed.inject_css(\"https://cdn.pydata.org/bokeh/release/bokeh-tables-1.0.4.min.css\");\n",
       "    }\n",
       "  ];\n",
       "\n",
       "  function run_inline_js() {\n",
       "    \n",
       "    if ((root.Bokeh !== undefined) || (force === true)) {\n",
       "      for (var i = 0; i < inline_js.length; i++) {\n",
       "        inline_js[i].call(root, root.Bokeh);\n",
       "      }if (force === true) {\n",
       "        display_loaded();\n",
       "      }} else if (Date.now() < root._bokeh_timeout) {\n",
       "      setTimeout(run_inline_js, 100);\n",
       "    } else if (!root._bokeh_failed_load) {\n",
       "      console.log(\"Bokeh: BokehJS failed to load within specified timeout.\");\n",
       "      root._bokeh_failed_load = true;\n",
       "    } else if (force !== true) {\n",
       "      var cell = $(document.getElementById(\"1001\")).parents('.cell').data().cell;\n",
       "      cell.output_area.append_execute_result(NB_LOAD_WARNING)\n",
       "    }\n",
       "\n",
       "  }\n",
       "\n",
       "  if (root._bokeh_is_loading === 0) {\n",
       "    console.log(\"Bokeh: BokehJS loaded, going straight to plotting\");\n",
       "    run_inline_js();\n",
       "  } else {\n",
       "    load_libs(js_urls, function() {\n",
       "      console.log(\"Bokeh: BokehJS plotting callback run at\", now());\n",
       "      run_inline_js();\n",
       "    });\n",
       "  }\n",
       "}(window));"
      ],
      "application/vnd.bokehjs_load.v0+json": "\n(function(root) {\n  function now() {\n    return new Date();\n  }\n\n  var force = true;\n\n  if (typeof (root._bokeh_onload_callbacks) === \"undefined\" || force === true) {\n    root._bokeh_onload_callbacks = [];\n    root._bokeh_is_loading = undefined;\n  }\n\n  \n\n  \n  if (typeof (root._bokeh_timeout) === \"undefined\" || force === true) {\n    root._bokeh_timeout = Date.now() + 5000;\n    root._bokeh_failed_load = false;\n  }\n\n  var NB_LOAD_WARNING = {'data': {'text/html':\n     \"<div style='background-color: #fdd'>\\n\"+\n     \"<p>\\n\"+\n     \"BokehJS does not appear to have successfully loaded. If loading BokehJS from CDN, this \\n\"+\n     \"may be due to a slow or bad network connection. Possible fixes:\\n\"+\n     \"</p>\\n\"+\n     \"<ul>\\n\"+\n     \"<li>re-rerun `output_notebook()` to attempt to load from CDN again, or</li>\\n\"+\n     \"<li>use INLINE resources instead, as so:</li>\\n\"+\n     \"</ul>\\n\"+\n     \"<code>\\n\"+\n     \"from bokeh.resources import INLINE\\n\"+\n     \"output_notebook(resources=INLINE)\\n\"+\n     \"</code>\\n\"+\n     \"</div>\"}};\n\n  function display_loaded() {\n    var el = document.getElementById(\"1001\");\n    if (el != null) {\n      el.textContent = \"BokehJS is loading...\";\n    }\n    if (root.Bokeh !== undefined) {\n      if (el != null) {\n        el.textContent = \"BokehJS \" + root.Bokeh.version + \" successfully loaded.\";\n      }\n    } else if (Date.now() < root._bokeh_timeout) {\n      setTimeout(display_loaded, 100)\n    }\n  }\n\n\n  function run_callbacks() {\n    try {\n      root._bokeh_onload_callbacks.forEach(function(callback) { callback() });\n    }\n    finally {\n      delete root._bokeh_onload_callbacks\n    }\n    console.info(\"Bokeh: all callbacks have finished\");\n  }\n\n  function load_libs(js_urls, callback) {\n    root._bokeh_onload_callbacks.push(callback);\n    if (root._bokeh_is_loading > 0) {\n      console.log(\"Bokeh: BokehJS is being loaded, scheduling callback at\", now());\n      return null;\n    }\n    if (js_urls == null || js_urls.length === 0) {\n      run_callbacks();\n      return null;\n    }\n    console.log(\"Bokeh: BokehJS not loaded, scheduling load and callback at\", now());\n    root._bokeh_is_loading = js_urls.length;\n    for (var i = 0; i < js_urls.length; i++) {\n      var url = js_urls[i];\n      var s = document.createElement('script');\n      s.src = url;\n      s.async = false;\n      s.onreadystatechange = s.onload = function() {\n        root._bokeh_is_loading--;\n        if (root._bokeh_is_loading === 0) {\n          console.log(\"Bokeh: all BokehJS libraries loaded\");\n          run_callbacks()\n        }\n      };\n      s.onerror = function() {\n        console.warn(\"failed to load library \" + url);\n      };\n      console.log(\"Bokeh: injecting script tag for BokehJS library: \", url);\n      document.getElementsByTagName(\"head\")[0].appendChild(s);\n    }\n  };var element = document.getElementById(\"1001\");\n  if (element == null) {\n    console.log(\"Bokeh: ERROR: autoload.js configured with elementid '1001' but no matching script tag was found. \")\n    return false;\n  }\n\n  var js_urls = [\"https://cdn.pydata.org/bokeh/release/bokeh-1.0.4.min.js\", \"https://cdn.pydata.org/bokeh/release/bokeh-widgets-1.0.4.min.js\", \"https://cdn.pydata.org/bokeh/release/bokeh-tables-1.0.4.min.js\", \"https://cdn.pydata.org/bokeh/release/bokeh-gl-1.0.4.min.js\"];\n\n  var inline_js = [\n    function(Bokeh) {\n      Bokeh.set_log_level(\"info\");\n    },\n    \n    function(Bokeh) {\n      \n    },\n    function(Bokeh) {\n      console.log(\"Bokeh: injecting CSS: https://cdn.pydata.org/bokeh/release/bokeh-1.0.4.min.css\");\n      Bokeh.embed.inject_css(\"https://cdn.pydata.org/bokeh/release/bokeh-1.0.4.min.css\");\n      console.log(\"Bokeh: injecting CSS: https://cdn.pydata.org/bokeh/release/bokeh-widgets-1.0.4.min.css\");\n      Bokeh.embed.inject_css(\"https://cdn.pydata.org/bokeh/release/bokeh-widgets-1.0.4.min.css\");\n      console.log(\"Bokeh: injecting CSS: https://cdn.pydata.org/bokeh/release/bokeh-tables-1.0.4.min.css\");\n      Bokeh.embed.inject_css(\"https://cdn.pydata.org/bokeh/release/bokeh-tables-1.0.4.min.css\");\n    }\n  ];\n\n  function run_inline_js() {\n    \n    if ((root.Bokeh !== undefined) || (force === true)) {\n      for (var i = 0; i < inline_js.length; i++) {\n        inline_js[i].call(root, root.Bokeh);\n      }if (force === true) {\n        display_loaded();\n      }} else if (Date.now() < root._bokeh_timeout) {\n      setTimeout(run_inline_js, 100);\n    } else if (!root._bokeh_failed_load) {\n      console.log(\"Bokeh: BokehJS failed to load within specified timeout.\");\n      root._bokeh_failed_load = true;\n    } else if (force !== true) {\n      var cell = $(document.getElementById(\"1001\")).parents('.cell').data().cell;\n      cell.output_area.append_execute_result(NB_LOAD_WARNING)\n    }\n\n  }\n\n  if (root._bokeh_is_loading === 0) {\n    console.log(\"Bokeh: BokehJS loaded, going straight to plotting\");\n    run_inline_js();\n  } else {\n    load_libs(js_urls, function() {\n      console.log(\"Bokeh: BokehJS plotting callback run at\", now());\n      run_inline_js();\n    });\n  }\n}(window));"
     },
     "metadata": {},
     "output_type": "display_data"
    }
   ],
   "source": [
    "#tree viz\n",
    "from IPython.display import Image\n",
    "import pydotplus\n",
    "#gplearn\n",
    "from gplearn.genetic import SymbolicRegressor\n",
    "from gplearn.fitness import make_fitness\n",
    "\n",
    "#--Import the standard libraries--\n",
    "import math\n",
    "import random\n",
    "import matplotlib.pyplot as plt\n",
    "import numpy as np\n",
    "\n",
    "#imports for bokeh\n",
    "from ipywidgets import interact\n",
    "\n",
    "from bokeh.io import push_notebook, show, output_notebook\n",
    "from bokeh.plotting import figure\n",
    "from bokeh.models import ColumnDataSource, Range1d, LinearAxis\n",
    "\n",
    "output_notebook()\n",
    " \n",
    "#prints more verbose output\n",
    "DEBUG = False\n",
    "verbose_value = 0\n",
    "if(DEBUG): verbose_value = 1"
   ]
  },
  {
   "cell_type": "markdown",
   "metadata": {},
   "source": [
    "\n",
    "# Read in test data\n",
    "\n",
    "## format:\n",
    "\n",
    "### details:\n",
    "\n",
    "|#step  |#stride |\n",
    "|-------|--------|\n",
    "\n",
    "### training data:\n",
    "\n",
    "|#rows  |1|\n",
    "|-------|-|\n",
    "|row1   | |\n",
    "|row2   | |\n",
    "|...    | |\n",
    "|lastrow| |\n",
    "\n",
    "Note, training data is also used as the test data in this case"
   ]
  },
  {
   "cell_type": "code",
   "execution_count": 3,
   "metadata": {},
   "outputs": [],
   "source": [
    "#specfy folder/filename for data to be read in\n",
    "folder = \"data\" \n",
    "filename = \"testsunspot.mat\"\n",
    "filename_full = folder + \"\\\\\" +filename\n",
    "\n",
    "#gets the step, str stride, hidden\n",
    "def get_steps_stride():\n",
    "    with open(filename_full, 'r') as file:\n",
    "        line = file.readline()\n",
    "        data_temp = list(map(int,line[::2]))\n",
    "        #strip off the # of hidden nodes since we don't need\n",
    "        data = tuple(data_temp[:2])\n",
    "    return data\n",
    "\n",
    "#returns a tuple of number of rows fortraining data\n",
    "def get_num_rows():\n",
    "    with open(filename_full, 'r') as file:\n",
    "            lines = file.readlines()\n",
    "            #Read in the num of rows for training data\n",
    "            line = lines[1]\n",
    "            num_rows = int(line.split(\" \")[0])\n",
    "    return num_rows\n",
    "\n",
    "data_raw = np.genfromtxt(filename_full, dtype = \"float64\", skip_header = 2)\n",
    "#get num rows is not used because it was incorrect for some of the datasets\n",
    "num_rows = data_raw.shape[0]\n",
    "steps,stride = get_steps_stride()\n",
    "\n",
    "#calculate the max number of samples given the steps and stride\n",
    "samples = (num_rows)-(steps+1)*stride\n",
    "\n",
    "def print_details():\n",
    "    print(\"num_rows:{} steps:{} strides: {} samples: {}\".format(num_rows,steps,stride,samples))\n",
    "    \n",
    "#If debug mode, print more verbose details\n",
    "if(DEBUG):print_details()"
   ]
  },
  {
   "cell_type": "markdown",
   "metadata": {},
   "source": [
    "# Plot the data in bokeh, x dimension is unknown."
   ]
  },
  {
   "cell_type": "code",
   "execution_count": 4,
   "metadata": {},
   "outputs": [],
   "source": [
    "x_max = 1.0\n",
    "x = np.linspace(0, x_max, num_rows)\n",
    "y = data_raw\n"
   ]
  },
  {
   "cell_type": "code",
   "execution_count": 5,
   "metadata": {},
   "outputs": [],
   "source": [
    "\n",
    "plot = figure(title=filename+\" input\",\n",
    "              plot_height=300,\n",
    "              plot_width=600,\n",
    "              y_range=(min(data_raw)-1,max(data_raw)+1),\n",
    "              x_range=(0,1),\n",
    "              background_fill_color='#efefef',\n",
    "              toolbar_location=None,\n",
    "              active_drag=None)\n",
    "line = plot.line(x, y, color=\"#8888cc\", line_width=1.5, alpha=0.8)"
   ]
  },
  {
   "cell_type": "code",
   "execution_count": 6,
   "metadata": {},
   "outputs": [
    {
     "data": {
      "text/html": [
       "\n",
       "\n",
       "\n",
       "\n",
       "\n",
       "\n",
       "  <div class=\"bk-root\" id=\"27f73eab-f57d-45b7-a5ae-a914af233ae3\" data-root-id=\"1003\"></div>\n"
      ]
     },
     "metadata": {},
     "output_type": "display_data"
    },
    {
     "data": {
      "application/javascript": [
       "(function(root) {\n",
       "  function embed_document(root) {\n",
       "    \n",
       "  var docs_json = {\"9395f9d2-c692-42a8-b65d-ae37aed13219\":{\"roots\":{\"references\":[{\"attributes\":{\"background_fill_color\":{\"value\":\"#efefef\"},\"below\":[{\"id\":\"1013\",\"type\":\"LinearAxis\"}],\"left\":[{\"id\":\"1018\",\"type\":\"LinearAxis\"}],\"plot_height\":300,\"renderers\":[{\"id\":\"1013\",\"type\":\"LinearAxis\"},{\"id\":\"1017\",\"type\":\"Grid\"},{\"id\":\"1018\",\"type\":\"LinearAxis\"},{\"id\":\"1022\",\"type\":\"Grid\"},{\"id\":\"1031\",\"type\":\"BoxAnnotation\"},{\"id\":\"1041\",\"type\":\"GlyphRenderer\"}],\"title\":{\"id\":\"1002\",\"type\":\"Title\"},\"toolbar\":{\"id\":\"1029\",\"type\":\"Toolbar\"},\"toolbar_location\":null,\"x_range\":{\"id\":\"1005\",\"type\":\"Range1d\"},\"x_scale\":{\"id\":\"1009\",\"type\":\"LinearScale\"},\"y_range\":{\"id\":\"1007\",\"type\":\"Range1d\"},\"y_scale\":{\"id\":\"1011\",\"type\":\"LinearScale\"}},\"id\":\"1003\",\"subtype\":\"Figure\",\"type\":\"Plot\"},{\"attributes\":{\"data_source\":{\"id\":\"1038\",\"type\":\"ColumnDataSource\"},\"glyph\":{\"id\":\"1039\",\"type\":\"Line\"},\"hover_glyph\":null,\"muted_glyph\":null,\"nonselection_glyph\":{\"id\":\"1040\",\"type\":\"Line\"},\"selection_glyph\":null,\"view\":{\"id\":\"1042\",\"type\":\"CDSView\"}},\"id\":\"1041\",\"type\":\"GlyphRenderer\"},{\"attributes\":{\"overlay\":{\"id\":\"1031\",\"type\":\"BoxAnnotation\"}},\"id\":\"1025\",\"type\":\"BoxZoomTool\"},{\"attributes\":{\"plot\":{\"id\":\"1003\",\"subtype\":\"Figure\",\"type\":\"Plot\"},\"ticker\":{\"id\":\"1014\",\"type\":\"BasicTicker\"}},\"id\":\"1017\",\"type\":\"Grid\"},{\"attributes\":{\"line_alpha\":0.8,\"line_color\":\"#8888cc\",\"line_width\":1.5,\"x\":{\"field\":\"x\"},\"y\":{\"field\":\"y\"}},\"id\":\"1039\",\"type\":\"Line\"},{\"attributes\":{},\"id\":\"1026\",\"type\":\"SaveTool\"},{\"attributes\":{},\"id\":\"1045\",\"type\":\"BasicTickFormatter\"},{\"attributes\":{\"formatter\":{\"id\":\"1047\",\"type\":\"BasicTickFormatter\"},\"plot\":{\"id\":\"1003\",\"subtype\":\"Figure\",\"type\":\"Plot\"},\"ticker\":{\"id\":\"1019\",\"type\":\"BasicTicker\"}},\"id\":\"1018\",\"type\":\"LinearAxis\"},{\"attributes\":{\"plot\":null,\"text\":\"testsunspot.mat input\"},\"id\":\"1002\",\"type\":\"Title\"},{\"attributes\":{\"callback\":null,\"data\":{\"x\":{\"__ndarray__\":\"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\",\"dtype\":\"float64\",\"shape\":[319]},\"y\":{\"__ndarray__\":\"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\",\"dtype\":\"float64\",\"shape\":[319]}},\"selected\":{\"id\":\"1049\",\"type\":\"Selection\"},\"selection_policy\":{\"id\":\"1048\",\"type\":\"UnionRenderers\"}},\"id\":\"1038\",\"type\":\"ColumnDataSource\"},{\"attributes\":{},\"id\":\"1027\",\"type\":\"ResetTool\"},{\"attributes\":{},\"id\":\"1048\",\"type\":\"UnionRenderers\"},{\"attributes\":{},\"id\":\"1019\",\"type\":\"BasicTicker\"},{\"attributes\":{},\"id\":\"1049\",\"type\":\"Selection\"},{\"attributes\":{\"callback\":null,\"end\":270.3,\"start\":-1.0},\"id\":\"1007\",\"type\":\"Range1d\"},{\"attributes\":{},\"id\":\"1028\",\"type\":\"HelpTool\"},{\"attributes\":{\"dimension\":1,\"plot\":{\"id\":\"1003\",\"subtype\":\"Figure\",\"type\":\"Plot\"},\"ticker\":{\"id\":\"1019\",\"type\":\"BasicTicker\"}},\"id\":\"1022\",\"type\":\"Grid\"},{\"attributes\":{\"callback\":null},\"id\":\"1005\",\"type\":\"Range1d\"},{\"attributes\":{\"active_drag\":null,\"active_inspect\":\"auto\",\"active_multi\":null,\"active_scroll\":\"auto\",\"active_tap\":\"auto\",\"tools\":[{\"id\":\"1023\",\"type\":\"PanTool\"},{\"id\":\"1024\",\"type\":\"WheelZoomTool\"},{\"id\":\"1025\",\"type\":\"BoxZoomTool\"},{\"id\":\"1026\",\"type\":\"SaveTool\"},{\"id\":\"1027\",\"type\":\"ResetTool\"},{\"id\":\"1028\",\"type\":\"HelpTool\"}]},\"id\":\"1029\",\"type\":\"Toolbar\"},{\"attributes\":{\"bottom_units\":\"screen\",\"fill_alpha\":{\"value\":0.5},\"fill_color\":{\"value\":\"lightgrey\"},\"left_units\":\"screen\",\"level\":\"overlay\",\"line_alpha\":{\"value\":1.0},\"line_color\":{\"value\":\"black\"},\"line_dash\":[4,4],\"line_width\":{\"value\":2},\"plot\":null,\"render_mode\":\"css\",\"right_units\":\"screen\",\"top_units\":\"screen\"},\"id\":\"1031\",\"type\":\"BoxAnnotation\"},{\"attributes\":{},\"id\":\"1009\",\"type\":\"LinearScale\"},{\"attributes\":{},\"id\":\"1047\",\"type\":\"BasicTickFormatter\"},{\"attributes\":{\"line_alpha\":0.1,\"line_color\":\"#1f77b4\",\"line_width\":1.5,\"x\":{\"field\":\"x\"},\"y\":{\"field\":\"y\"}},\"id\":\"1040\",\"type\":\"Line\"},{\"attributes\":{},\"id\":\"1011\",\"type\":\"LinearScale\"},{\"attributes\":{},\"id\":\"1023\",\"type\":\"PanTool\"},{\"attributes\":{\"formatter\":{\"id\":\"1045\",\"type\":\"BasicTickFormatter\"},\"plot\":{\"id\":\"1003\",\"subtype\":\"Figure\",\"type\":\"Plot\"},\"ticker\":{\"id\":\"1014\",\"type\":\"BasicTicker\"}},\"id\":\"1013\",\"type\":\"LinearAxis\"},{\"attributes\":{\"source\":{\"id\":\"1038\",\"type\":\"ColumnDataSource\"}},\"id\":\"1042\",\"type\":\"CDSView\"},{\"attributes\":{},\"id\":\"1024\",\"type\":\"WheelZoomTool\"},{\"attributes\":{},\"id\":\"1014\",\"type\":\"BasicTicker\"}],\"root_ids\":[\"1003\"]},\"title\":\"Bokeh Application\",\"version\":\"1.0.4\"}};\n",
       "  var render_items = [{\"docid\":\"9395f9d2-c692-42a8-b65d-ae37aed13219\",\"roots\":{\"1003\":\"27f73eab-f57d-45b7-a5ae-a914af233ae3\"}}];\n",
       "  root.Bokeh.embed.embed_items_notebook(docs_json, render_items);\n",
       "\n",
       "  }\n",
       "  if (root.Bokeh !== undefined) {\n",
       "    embed_document(root);\n",
       "  } else {\n",
       "    var attempts = 0;\n",
       "    var timer = setInterval(function(root) {\n",
       "      if (root.Bokeh !== undefined) {\n",
       "        embed_document(root);\n",
       "        clearInterval(timer);\n",
       "      }\n",
       "      attempts++;\n",
       "      if (attempts > 100) {\n",
       "        console.log(\"Bokeh: ERROR: Unable to run BokehJS code because BokehJS library is missing\");\n",
       "        clearInterval(timer);\n",
       "      }\n",
       "    }, 10, root)\n",
       "  }\n",
       "})(window);"
      ],
      "application/vnd.bokehjs_exec.v0+json": ""
     },
     "metadata": {
      "application/vnd.bokehjs_exec.v0+json": {
       "id": "1003"
      }
     },
     "output_type": "display_data"
    }
   ],
   "source": [
    "show(plot)"
   ]
  },
  {
   "cell_type": "markdown",
   "metadata": {},
   "source": [
    "# Setup the training data\n",
    "\n"
   ]
  },
  {
   "cell_type": "code",
   "execution_count": 7,
   "metadata": {},
   "outputs": [],
   "source": [
    "stack_input = [(data_raw[begin:begin+(steps+1)*stride:stride])[0:steps] for begin in range(0,samples)]\n",
    "stack_target = [(data_raw[begin:begin+(steps+1)*stride:stride])[-1] for begin in range(0,samples)]\n",
    "num_samples = samples\n",
    "train_x = np.stack(stack_input)\n",
    "train_y = np.stack(stack_target)\n"
   ]
  },
  {
   "cell_type": "markdown",
   "metadata": {},
   "source": [
    "# Custom Fitness function\n",
    "Here is where the real usage of gplearn begins, here we define a fitness function that tests the diffrence from the result to the selected training values using RMSE. This function is actually built into gplearn, but figured it was better to show how to make your own fitness function"
   ]
  },
  {
   "cell_type": "code",
   "execution_count": 8,
   "metadata": {},
   "outputs": [],
   "source": [
    "#fittness function\n",
    "\n",
    "def _custom_fitness(y, y_pred, w):\n",
    "    return np.sqrt(np.mean((y_pred-y)**2))\n",
    "\n",
    "custom_fitness = make_fitness(_custom_fitness, greater_is_better=False)"
   ]
  },
  {
   "cell_type": "markdown",
   "metadata": {},
   "source": [
    "# Symbolic regression\n",
    "\n",
    "We run a symbolic regression on a 1000 individuals for 20 generations. There are three kinds of mutation, subtree, hoist, and point. The hoist mutation is the only type that differs significantly from what was talked about in class. In it, a random subtree is selected, then, a random subtree from within it is lifted to it’s root node. It is used to combat tree bloat, and it appears to be very effective. Without the hoist mutation, tree trees grew like redwoods."
   ]
  },
  {
   "cell_type": "code",
   "execution_count": 9,
   "metadata": {},
   "outputs": [
    {
     "data": {
      "text/plain": [
       "SymbolicRegressor(const_range=(-1.0, 1.0),\n",
       "         function_set=('add', 'sub', 'mul', 'div', 'sin'), generations=40,\n",
       "         init_depth=(2, 6), init_method='half and half', max_samples=0.9,\n",
       "         metric=<gplearn.fitness._Fitness object at 0x0000028254947DD8>,\n",
       "         n_jobs=1, p_crossover=0.7, p_hoist_mutation=0.05,\n",
       "         p_point_mutation=0.1, p_point_replace=0.05,\n",
       "         p_subtree_mutation=0.1, parsimony_coefficient=0.001,\n",
       "         population_size=1000, random_state=0, stopping_criteria=0,\n",
       "         tournament_size=20, verbose=0, warm_start=False)"
      ]
     },
     "execution_count": 9,
     "metadata": {},
     "output_type": "execute_result"
    }
   ],
   "source": [
    "#This part sets up the symbolic regressor\n",
    "est = SymbolicRegressor(population_size=1000,\n",
    "                           generations=40, stopping_criteria=0,\n",
    "                           p_crossover=0.7, p_subtree_mutation=0.1,\n",
    "                           p_hoist_mutation=0.05, p_point_mutation=0.1,\n",
    "                           max_samples=0.9, verbose=verbose_value,\n",
    "                           parsimony_coefficient=0.001, random_state=0,\n",
    "                           metric = custom_fitness,\n",
    "                           function_set=('add', 'sub', 'mul', 'div',\"sin\")\n",
    "                           )\n",
    "#This part runs it on our data\n",
    "est.fit(train_x, train_y)"
   ]
  },
  {
   "cell_type": "markdown",
   "metadata": {},
   "source": [
    "# Plot The function it predicted in comparison with the actual function"
   ]
  },
  {
   "cell_type": "code",
   "execution_count": 10,
   "metadata": {},
   "outputs": [],
   "source": [
    "\n",
    "#this builds the plot\n",
    "predict_y = est.predict(train_x)\n",
    "x = np.arange(0, samples)"
   ]
  },
  {
   "cell_type": "code",
   "execution_count": 11,
   "metadata": {},
   "outputs": [],
   "source": [
    "r_squared = est.score(train_x,train_y)"
   ]
  },
  {
   "cell_type": "code",
   "execution_count": 12,
   "metadata": {},
   "outputs": [],
   "source": [
    "#get xvalues based off stride and step\n",
    "def get_xvalues(index):\n",
    "    values = np.arange(0,num_rows)\n",
    "    return list(values[index:index+(steps+1)*(stride):stride])\n",
    "\n",
    "def get_start(x_end):\n",
    "    test = x_end-(steps+1)*stride+1\n",
    "    return test \n",
    "\n",
    "def get_xvaluesend(index):\n",
    "    begin = get_start(index)\n",
    "    if begin < 0:\n",
    "        begin = 0\n",
    "    return get_xvalues(begin)\n",
    "\n",
    "def get_yvaluesend(index):\n",
    "    return train_y[get_xvaluesend(index)]\n",
    "\n",
    "def p_get_yvaluesend(index):\n",
    "    return predict_y[get_xvaluesend(index)]\n",
    "\n",
    "#Build data sources for plotting\n",
    "data_1 = {'x': [0]}\n",
    "source_1 = ColumnDataSource(data=data_1)\n",
    "\n",
    "#source for input values cirlcles\n",
    "data_2 = {'x': get_xvaluesend(50)[:steps],'y': get_yvaluesend(50)[:steps]}\n",
    "source_2 = ColumnDataSource(data=data_2)\n",
    "\n",
    "#source for target\n",
    "data_3 = {'x': [get_xvaluesend(50)[-1]],'y': [get_yvaluesend(50)[-1]]}\n",
    "source_3 = ColumnDataSource(data=data_3)\n",
    "\n",
    "#source for predict\n",
    "data_4 = {'x': [get_xvaluesend(50)[-1]],'y': [p_get_yvaluesend(50)[-1]]}\n",
    "source_4 = ColumnDataSource(data=data_4)\n",
    "\n",
    "#source for seg\n",
    "data_5 = {'x0': [get_xvaluesend(50)[-1]],'y0': [p_get_yvaluesend(50)[-1]],'x1': [get_xvaluesend(50)[-1]],'y1': [p_get_yvaluesend(50)[-1]]}\n",
    "source_5 = ColumnDataSource(data=data_5)\n",
    "\n",
    "\n"
   ]
  },
  {
   "cell_type": "code",
   "execution_count": 13,
   "metadata": {},
   "outputs": [],
   "source": [
    "##build plot 1\n",
    "\n",
    "plot_1 = figure(title=\"output\",\n",
    "              plot_height=300,\n",
    "              plot_width=600,\n",
    "              y_range=(min(data_raw)-1,max(data_raw)+1),\n",
    "              x_range=(0,samples),\n",
    "              background_fill_color='#efefef',\n",
    "              toolbar_location=None,\n",
    "              active_drag=None)\n",
    "\n",
    "\n",
    "plot_1.grid.grid_line_color = \"#9b9b9b\"\n",
    "#plot_1.xaxis.ticker = [x for x in range (0,samples,5)]\n",
    "plot_1.xaxis.axis_label = \"Samples\"\n",
    "\n",
    "line_1 = plot_1.line(x, train_y, color=\"#3030ff\", line_width=1.5, alpha=0.8)\n",
    "line_2 = plot_1.line(x, predict_y, color=\"#d60c0c\", line_width=1.5, alpha=0.8)\n",
    "\n",
    "\n",
    "h_line = plot_1.ray(x=\"x\", y=min(data_raw)-1, length=400, angle=90,\n",
    "      angle_units=\"deg\", color=\"#FB8072\", line_width=4, source = source_1)\n",
    "\n",
    "\n"
   ]
  },
  {
   "cell_type": "code",
   "execution_count": 14,
   "metadata": {},
   "outputs": [],
   "source": [
    "y_upper = 10\n",
    "x_upper = 10\n",
    "plot_2 = figure(title=\"output\",\n",
    "              plot_height=300,\n",
    "              plot_width=300,\n",
    "              y_range=(0,y_upper),\n",
    "              x_range=(0,x_upper),\n",
    "              background_fill_color='#efefef',\n",
    "              toolbar_location=None,\n",
    "              active_drag=None)\n",
    "\n",
    "line_1_2 = plot_2.line(x, train_y, color=\"#3030ff\", line_width=1.5, alpha=0.8)\n",
    "\n",
    "#circles representing positions used to eval\n",
    "circle_1_2 = plot_2.circle(x = 'x', y='y', fill_color=\"white\", size=10, source = source_2)\n",
    "circle_2_2 = plot_2.cross(x = 'x', y='y', color=\"blue\", size=10, source = source_3)\n",
    "circle_3_2 = plot_2.cross(x = 'x', y='y', color=\"red\", size=10, source = source_4)\n",
    "\n",
    "#segment between the pred and actual\n",
    "#seg_1_2 = plot_2.segment(x0=\"x0\", y0=\"x0\", x1=\"x1\",\n",
    "        #  y1=\"y1\", color=\"#F4A582\",line_dash=\"4 4\", line_width=2, source = source_5)\n",
    "\n"
   ]
  },
  {
   "cell_type": "code",
   "execution_count": 15,
   "metadata": {},
   "outputs": [],
   "source": [
    "def update_hline(x_slice,scale):\n",
    "    new_array = np.asarray([x_slice])\n",
    "    #for value in h_line.data_source.data:\n",
    "        #print(value)\n",
    "    h_line.data_source.data['x'] = new_array\n",
    "    \n",
    "    #gunna need these vars\n",
    "    x_values = get_xvaluesend(x_slice)\n",
    "    y_values_t = get_yvaluesend(x_slice)\n",
    "    y_values_p = p_get_yvaluesend(x_slice)\n",
    "    \n",
    "    #scale plot2\n",
    "    plot_2.y_range.start = min(y_values_t)-scale\n",
    "    plot_2.y_range.end = max(y_values_t) + scale\n",
    "    \n",
    "    plot_2.x_range.start = x_values[0]-scale\n",
    "    plot_2.x_range.end = x_values[-1]+scale\n",
    "    \n",
    "    #return list(values[index:index+(steps+1)*(stride):stride])\n",
    "    \n",
    "    \n",
    "    #update circles\n",
    "    circle_1_2.data_source.data['x'] = x_values[:steps]\n",
    "    circle_1_2.data_source.data['y'] = y_values_t[:steps]\n",
    "    #target circle\n",
    "    circle_2_2.data_source.data['x'] = [x_values[-1]]\n",
    "    circle_2_2.data_source.data['y'] = [y_values_t[-1]]\n",
    "    #predict circle\n",
    "    circle_3_2.data_source.data['x'] = [x_values[-1]]\n",
    "    circle_3_2.data_source.data['y'] = [y_values_p[-1]]\n",
    "    \n",
    "    #update connector\n",
    "    #seg_1_2.data_source.data['x0'] = [x_values[-1]]\n",
    "    #seg_1_2.data_source.data['y0'] = [y_values_p[-1]]\n",
    "    #seg_1_2.data_source.data['x1'] = [x_values[-1]]\n",
    "    #seg_1_2.data_source.data['y1'] = [y_values_t[-1]]\n",
    "    \n",
    "    print(x_values[0])\n",
    "    print(x_values[-1])\n",
    "    \n",
    "    push_notebook(handle = h1)\n",
    "    push_notebook(handle = h2)\n",
    "    "
   ]
  },
  {
   "cell_type": "code",
   "execution_count": 16,
   "metadata": {},
   "outputs": [
    {
     "name": "stdout",
     "output_type": "stream",
     "text": [
      "num_rows:319 steps:4 strides: 1 samples: 314\n",
      "R^2 score is: 0.8602558220083372\n",
      "\n",
      "Blue: Data \n",
      "Red: Predicted\n"
     ]
    },
    {
     "data": {
      "text/html": [
       "\n",
       "\n",
       "\n",
       "\n",
       "\n",
       "\n",
       "  <div class=\"bk-root\" id=\"84fcaf45-1dc5-429b-9ed3-d623623620cf\" data-root-id=\"1105\"></div>\n"
      ]
     },
     "metadata": {},
     "output_type": "display_data"
    },
    {
     "data": {
      "application/javascript": [
       "(function(root) {\n",
       "  function embed_document(root) {\n",
       "    \n",
       "  var docs_json = {\"13d9f369-e65b-476a-9587-12f6c6d5b495\":{\"roots\":{\"references\":[{\"attributes\":{\"background_fill_color\":{\"value\":\"#efefef\"},\"below\":[{\"id\":\"1115\",\"type\":\"LinearAxis\"}],\"left\":[{\"id\":\"1120\",\"type\":\"LinearAxis\"}],\"plot_height\":300,\"renderers\":[{\"id\":\"1115\",\"type\":\"LinearAxis\"},{\"id\":\"1119\",\"type\":\"Grid\"},{\"id\":\"1120\",\"type\":\"LinearAxis\"},{\"id\":\"1124\",\"type\":\"Grid\"},{\"id\":\"1133\",\"type\":\"BoxAnnotation\"},{\"id\":\"1143\",\"type\":\"GlyphRenderer\"},{\"id\":\"1148\",\"type\":\"GlyphRenderer\"},{\"id\":\"1153\",\"type\":\"GlyphRenderer\"}],\"title\":{\"id\":\"1104\",\"type\":\"Title\"},\"toolbar\":{\"id\":\"1131\",\"type\":\"Toolbar\"},\"toolbar_location\":null,\"x_range\":{\"id\":\"1107\",\"type\":\"Range1d\"},\"x_scale\":{\"id\":\"1111\",\"type\":\"LinearScale\"},\"y_range\":{\"id\":\"1109\",\"type\":\"Range1d\"},\"y_scale\":{\"id\":\"1113\",\"type\":\"LinearScale\"}},\"id\":\"1105\",\"subtype\":\"Figure\",\"type\":\"Plot\"},{\"attributes\":{\"source\":{\"id\":\"1099\",\"type\":\"ColumnDataSource\"}},\"id\":\"1154\",\"type\":\"CDSView\"},{\"attributes\":{\"line_alpha\":0.1,\"line_color\":\"#1f77b4\",\"line_width\":1.5,\"x\":{\"field\":\"x\"},\"y\":{\"field\":\"y\"}},\"id\":\"1142\",\"type\":\"Line\"},{\"attributes\":{},\"id\":\"1227\",\"type\":\"Selection\"},{\"attributes\":{\"data_source\":{\"id\":\"1099\",\"type\":\"ColumnDataSource\"},\"glyph\":{\"id\":\"1151\",\"type\":\"Ray\"},\"hover_glyph\":null,\"muted_glyph\":null,\"nonselection_glyph\":{\"id\":\"1152\",\"type\":\"Ray\"},\"selection_glyph\":null,\"view\":{\"id\":\"1154\",\"type\":\"CDSView\"}},\"id\":\"1153\",\"type\":\"GlyphRenderer\"},{\"attributes\":{},\"id\":\"1129\",\"type\":\"ResetTool\"},{\"attributes\":{\"callback\":null,\"data\":{\"x\":{\"__ndarray__\":\"AAAAAAEAAAACAAAAAwAAAAQAAAAFAAAABgAAAAcAAAAIAAAACQAAAAoAAAALAAAADAAAAA0AAAAOAAAADwAAABAAAAARAAAAEgAAABMAAAAUAAAAFQAAABYAAAAXAAAAGAAAABkAAAAaAAAAGwAAABwAAAAdAAAAHgAAAB8AAAAgAAAAIQAAACIAAAAjAAAAJAAAACUAAAAmAAAAJwAAACgAAAApAAAAKgAAACsAAAAsAAAALQAAAC4AAAAvAAAAMAAAADEAAAAyAAAAMwAAADQAAAA1AAAANgAAADcAAAA4AAAAOQAAADoAAAA7AAAAPAAAAD0AAAA+AAAAPwAAAEAAAABBAAAAQgAAAEMAAABEAAAARQAAAEYAAABHAAAASAAAAEkAAABKAAAASwAAAEwAAABNAAAATgAAAE8AAABQAAAAUQAAAFIAAABTAAAAVAAAAFUAAABWAAAAVwAAAFgAAABZAAAAWgAAAFsAAABcAAAAXQAAAF4AAABfAAAAYAAAAGEAAABiAAAAYwAAAGQAAABlAAAAZgAAAGcAAABoAAAAaQAAAGoAAABrAAAAbAAAAG0AAABuAAAAbwAAAHAAAABxAAAAcgAAAHMAAAB0AAAAdQAAAHYAAAB3AAAAeAAAAHkAAAB6AAAAewAAAHwAAAB9AAAAfgAAAH8AAACAAAAAgQAAAIIAAACDAAAAhAAAAIUAAACGAAAAhwAAAIgAAACJAAAAigAAAIsAAACMAAAAjQAAAI4AAACPAAAAkAAAAJEAAACSAAAAkwAAAJQAAACVAAAAlgAAAJcAAACYAAAAmQAAAJoAAACbAAAAnAAAAJ0AAACeAAAAnwAAAKAAAAChAAAAogAAAKMAAACkAAAApQAAAKYAAACnAAAAqAAAAKkAAACqAAAAqwAAAKwAAACtAAAArgAAAK8AAACwAAAAsQAAALIAAACzAAAAtAAAALUAAAC2AAAAtwAAALgAAAC5AAAAugAAALsAAAC8AAAAvQAAAL4AAAC/AAAAwAAAAMEAAADCAAAAwwAAAMQAAADFAAAAxgAAAMcAAADIAAAAyQAAAMoAAADLAAAAzAAAAM0AAADOAAAAzwAAANAAAADRAAAA0gAAANMAAADUAAAA1QAAANYAAADXAAAA2AAAANkAAADaAAAA2wAAANwAAADdAAAA3gAAAN8AAADgAAAA4QAAAOIAAADjAAAA5AAAAOUAAADmAAAA5wAAAOgAAADpAAAA6gAAAOsAAADsAAAA7QAAAO4AAADvAAAA8AAAAPEAAADyAAAA8wAAAPQAAAD1AAAA9gAAAPcAAAD4AAAA+QAAAPoAAAD7AAAA/AAAAP0AAAD+AAAA/wAAAAABAAABAQAAAgEAAAMBAAAEAQAABQEAAAYBAAAHAQAACAEAAAkBAAAKAQAACwEAAAwBAAANAQAADgEAAA8BAAAQAQAAEQEAABIBAAATAQAAFAEAABUBAAAWAQAAFwEAABgBAAAZAQAAGgEAABsBAAAcAQAAHQEAAB4BAAAfAQAAIAEAACEBAAAiAQAAIwEAACQBAAAlAQAAJgEAACcBAAAoAQAAKQEAACoBAAArAQAALAEAAC0BAAAuAQAALwEAADABAAAxAQAAMgEAADMBAAA0AQAANQEAADYBAAA3AQAAOAEAADkBAAA=\",\"dtype\":\"int32\",\"shape\":[314]},\"y\":{\"__ndarray__\":\"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\",\"dtype\":\"float64\",\"shape\":[314]}},\"selected\":{\"id\":\"1227\",\"type\":\"Selection\"},\"selection_policy\":{\"id\":\"1226\",\"type\":\"UnionRenderers\"}},\"id\":\"1145\",\"type\":\"ColumnDataSource\"},{\"attributes\":{\"overlay\":{\"id\":\"1133\",\"type\":\"BoxAnnotation\"}},\"id\":\"1127\",\"type\":\"BoxZoomTool\"},{\"attributes\":{},\"id\":\"1229\",\"type\":\"Selection\"},{\"attributes\":{},\"id\":\"1224\",\"type\":\"UnionRenderers\"},{\"attributes\":{},\"id\":\"1128\",\"type\":\"SaveTool\"},{\"attributes\":{\"plot\":null,\"text\":\"output\"},\"id\":\"1104\",\"type\":\"Title\"},{\"attributes\":{\"line_alpha\":0.1,\"line_color\":\"#1f77b4\",\"line_width\":1.5,\"x\":{\"field\":\"x\"},\"y\":{\"field\":\"y\"}},\"id\":\"1147\",\"type\":\"Line\"},{\"attributes\":{},\"id\":\"1228\",\"type\":\"UnionRenderers\"},{\"attributes\":{},\"id\":\"1130\",\"type\":\"HelpTool\"},{\"attributes\":{\"angle\":{\"units\":\"deg\",\"value\":90},\"length\":{\"units\":\"data\",\"value\":400},\"line_color\":{\"value\":\"#FB8072\"},\"line_width\":{\"value\":4},\"x\":{\"field\":\"x\"},\"y\":{\"value\":-1.0}},\"id\":\"1151\",\"type\":\"Ray\"},{\"attributes\":{},\"id\":\"1223\",\"type\":\"BasicTickFormatter\"},{\"attributes\":{\"callback\":null,\"data\":{\"x\":{\"__ndarray__\":\"AAAAAAEAAAACAAAAAwAAAAQAAAAFAAAABgAAAAcAAAAIAAAACQAAAAoAAAALAAAADAAAAA0AAAAOAAAADwAAABAAAAARAAAAEgAAABMAAAAUAAAAFQAAABYAAAAXAAAAGAAAABkAAAAaAAAAGwAAABwAAAAdAAAAHgAAAB8AAAAgAAAAIQAAACIAAAAjAAAAJAAAACUAAAAmAAAAJwAAACgAAAApAAAAKgAAACsAAAAsAAAALQAAAC4AAAAvAAAAMAAAADEAAAAyAAAAMwAAADQAAAA1AAAANgAAADcAAAA4AAAAOQAAADoAAAA7AAAAPAAAAD0AAAA+AAAAPwAAAEAAAABBAAAAQgAAAEMAAABEAAAARQAAAEYAAABHAAAASAAAAEkAAABKAAAASwAAAEwAAABNAAAATgAAAE8AAABQAAAAUQAAAFIAAABTAAAAVAAAAFUAAABWAAAAVwAAAFgAAABZAAAAWgAAAFsAAABcAAAAXQAAAF4AAABfAAAAYAAAAGEAAABiAAAAYwAAAGQAAABlAAAAZgAAAGcAAABoAAAAaQAAAGoAAABrAAAAbAAAAG0AAABuAAAAbwAAAHAAAABxAAAAcgAAAHMAAAB0AAAAdQAAAHYAAAB3AAAAeAAAAHkAAAB6AAAAewAAAHwAAAB9AAAAfgAAAH8AAACAAAAAgQAAAIIAAACDAAAAhAAAAIUAAACGAAAAhwAAAIgAAACJAAAAigAAAIsAAACMAAAAjQAAAI4AAACPAAAAkAAAAJEAAACSAAAAkwAAAJQAAACVAAAAlgAAAJcAAACYAAAAmQAAAJoAAACbAAAAnAAAAJ0AAACeAAAAnwAAAKAAAAChAAAAogAAAKMAAACkAAAApQAAAKYAAACnAAAAqAAAAKkAAACqAAAAqwAAAKwAAACtAAAArgAAAK8AAACwAAAAsQAAALIAAACzAAAAtAAAALUAAAC2AAAAtwAAALgAAAC5AAAAugAAALsAAAC8AAAAvQAAAL4AAAC/AAAAwAAAAMEAAADCAAAAwwAAAMQAAADFAAAAxgAAAMcAAADIAAAAyQAAAMoAAADLAAAAzAAAAM0AAADOAAAAzwAAANAAAADRAAAA0gAAANMAAADUAAAA1QAAANYAAADXAAAA2AAAANkAAADaAAAA2wAAANwAAADdAAAA3gAAAN8AAADgAAAA4QAAAOIAAADjAAAA5AAAAOUAAADmAAAA5wAAAOgAAADpAAAA6gAAAOsAAADsAAAA7QAAAO4AAADvAAAA8AAAAPEAAADyAAAA8wAAAPQAAAD1AAAA9gAAAPcAAAD4AAAA+QAAAPoAAAD7AAAA/AAAAP0AAAD+AAAA/wAAAAABAAABAQAAAgEAAAMBAAAEAQAABQEAAAYBAAAHAQAACAEAAAkBAAAKAQAACwEAAAwBAAANAQAADgEAAA8BAAAQAQAAEQEAABIBAAATAQAAFAEAABUBAAAWAQAAFwEAABgBAAAZAQAAGgEAABsBAAAcAQAAHQEAAB4BAAAfAQAAIAEAACEBAAAiAQAAIwEAACQBAAAlAQAAJgEAACcBAAAoAQAAKQEAACoBAAArAQAALAEAAC0BAAAuAQAALwEAADABAAAxAQAAMgEAADMBAAA0AQAANQEAADYBAAA3AQAAOAEAADkBAAA=\",\"dtype\":\"int32\",\"shape\":[314]},\"y\":{\"__ndarray__\":\"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\",\"dtype\":\"float64\",\"shape\":[314]}},\"selected\":{\"id\":\"1225\",\"type\":\"Selection\"},\"selection_policy\":{\"id\":\"1224\",\"type\":\"UnionRenderers\"}},\"id\":\"1140\",\"type\":\"ColumnDataSource\"},{\"attributes\":{\"line_alpha\":0.8,\"line_color\":\"#d60c0c\",\"line_width\":1.5,\"x\":{\"field\":\"x\"},\"y\":{\"field\":\"y\"}},\"id\":\"1146\",\"type\":\"Line\"},{\"attributes\":{},\"id\":\"1221\",\"type\":\"BasicTickFormatter\"},{\"attributes\":{\"source\":{\"id\":\"1145\",\"type\":\"ColumnDataSource\"}},\"id\":\"1149\",\"type\":\"CDSView\"},{\"attributes\":{},\"id\":\"1113\",\"type\":\"LinearScale\"},{\"attributes\":{\"callback\":null,\"end\":270.3,\"start\":-1.0},\"id\":\"1109\",\"type\":\"Range1d\"},{\"attributes\":{\"callback\":null,\"data\":{\"x\":[0]},\"selected\":{\"id\":\"1229\",\"type\":\"Selection\"},\"selection_policy\":{\"id\":\"1228\",\"type\":\"UnionRenderers\"}},\"id\":\"1099\",\"type\":\"ColumnDataSource\"},{\"attributes\":{\"data_source\":{\"id\":\"1140\",\"type\":\"ColumnDataSource\"},\"glyph\":{\"id\":\"1141\",\"type\":\"Line\"},\"hover_glyph\":null,\"muted_glyph\":null,\"nonselection_glyph\":{\"id\":\"1142\",\"type\":\"Line\"},\"selection_glyph\":null,\"view\":{\"id\":\"1144\",\"type\":\"CDSView\"}},\"id\":\"1143\",\"type\":\"GlyphRenderer\"},{\"attributes\":{},\"id\":\"1111\",\"type\":\"LinearScale\"},{\"attributes\":{\"bottom_units\":\"screen\",\"fill_alpha\":{\"value\":0.5},\"fill_color\":{\"value\":\"lightgrey\"},\"left_units\":\"screen\",\"level\":\"overlay\",\"line_alpha\":{\"value\":1.0},\"line_color\":{\"value\":\"black\"},\"line_dash\":[4,4],\"line_width\":{\"value\":2},\"plot\":null,\"render_mode\":\"css\",\"right_units\":\"screen\",\"top_units\":\"screen\"},\"id\":\"1133\",\"type\":\"BoxAnnotation\"},{\"attributes\":{},\"id\":\"1126\",\"type\":\"WheelZoomTool\"},{\"attributes\":{},\"id\":\"1225\",\"type\":\"Selection\"},{\"attributes\":{\"axis_label\":\"Samples\",\"formatter\":{\"id\":\"1221\",\"type\":\"BasicTickFormatter\"},\"plot\":{\"id\":\"1105\",\"subtype\":\"Figure\",\"type\":\"Plot\"},\"ticker\":{\"id\":\"1116\",\"type\":\"BasicTicker\"}},\"id\":\"1115\",\"type\":\"LinearAxis\"},{\"attributes\":{\"source\":{\"id\":\"1140\",\"type\":\"ColumnDataSource\"}},\"id\":\"1144\",\"type\":\"CDSView\"},{\"attributes\":{},\"id\":\"1125\",\"type\":\"PanTool\"},{\"attributes\":{},\"id\":\"1116\",\"type\":\"BasicTicker\"},{\"attributes\":{\"active_drag\":null,\"active_inspect\":\"auto\",\"active_multi\":null,\"active_scroll\":\"auto\",\"active_tap\":\"auto\",\"tools\":[{\"id\":\"1125\",\"type\":\"PanTool\"},{\"id\":\"1126\",\"type\":\"WheelZoomTool\"},{\"id\":\"1127\",\"type\":\"BoxZoomTool\"},{\"id\":\"1128\",\"type\":\"SaveTool\"},{\"id\":\"1129\",\"type\":\"ResetTool\"},{\"id\":\"1130\",\"type\":\"HelpTool\"}]},\"id\":\"1131\",\"type\":\"Toolbar\"},{\"attributes\":{\"formatter\":{\"id\":\"1223\",\"type\":\"BasicTickFormatter\"},\"plot\":{\"id\":\"1105\",\"subtype\":\"Figure\",\"type\":\"Plot\"},\"ticker\":{\"id\":\"1121\",\"type\":\"BasicTicker\"}},\"id\":\"1120\",\"type\":\"LinearAxis\"},{\"attributes\":{\"data_source\":{\"id\":\"1145\",\"type\":\"ColumnDataSource\"},\"glyph\":{\"id\":\"1146\",\"type\":\"Line\"},\"hover_glyph\":null,\"muted_glyph\":null,\"nonselection_glyph\":{\"id\":\"1147\",\"type\":\"Line\"},\"selection_glyph\":null,\"view\":{\"id\":\"1149\",\"type\":\"CDSView\"}},\"id\":\"1148\",\"type\":\"GlyphRenderer\"},{\"attributes\":{\"line_alpha\":0.8,\"line_color\":\"#3030ff\",\"line_width\":1.5,\"x\":{\"field\":\"x\"},\"y\":{\"field\":\"y\"}},\"id\":\"1141\",\"type\":\"Line\"},{\"attributes\":{},\"id\":\"1121\",\"type\":\"BasicTicker\"},{\"attributes\":{\"dimension\":1,\"grid_line_color\":{\"value\":\"#9b9b9b\"},\"plot\":{\"id\":\"1105\",\"subtype\":\"Figure\",\"type\":\"Plot\"},\"ticker\":{\"id\":\"1121\",\"type\":\"BasicTicker\"}},\"id\":\"1124\",\"type\":\"Grid\"},{\"attributes\":{\"angle\":{\"units\":\"deg\",\"value\":90},\"length\":{\"units\":\"data\",\"value\":400},\"line_alpha\":{\"value\":0.1},\"line_color\":{\"value\":\"#1f77b4\"},\"line_width\":{\"value\":4},\"x\":{\"field\":\"x\"},\"y\":{\"value\":-1.0}},\"id\":\"1152\",\"type\":\"Ray\"},{\"attributes\":{},\"id\":\"1226\",\"type\":\"UnionRenderers\"},{\"attributes\":{\"grid_line_color\":{\"value\":\"#9b9b9b\"},\"plot\":{\"id\":\"1105\",\"subtype\":\"Figure\",\"type\":\"Plot\"},\"ticker\":{\"id\":\"1116\",\"type\":\"BasicTicker\"}},\"id\":\"1119\",\"type\":\"Grid\"},{\"attributes\":{\"callback\":null,\"end\":314},\"id\":\"1107\",\"type\":\"Range1d\"}],\"root_ids\":[\"1105\"]},\"title\":\"Bokeh Application\",\"version\":\"1.0.4\"}};\n",
       "  var render_items = [{\"docid\":\"13d9f369-e65b-476a-9587-12f6c6d5b495\",\"notebook_comms_target\":\"1231\",\"roots\":{\"1105\":\"84fcaf45-1dc5-429b-9ed3-d623623620cf\"}}];\n",
       "  root.Bokeh.embed.embed_items_notebook(docs_json, render_items);\n",
       "\n",
       "  }\n",
       "  if (root.Bokeh !== undefined) {\n",
       "    embed_document(root);\n",
       "  } else {\n",
       "    var attempts = 0;\n",
       "    var timer = setInterval(function(root) {\n",
       "      if (root.Bokeh !== undefined) {\n",
       "        embed_document(root);\n",
       "        clearInterval(timer);\n",
       "      }\n",
       "      attempts++;\n",
       "      if (attempts > 100) {\n",
       "        console.log(\"Bokeh: ERROR: Unable to run BokehJS code because BokehJS library is missing\");\n",
       "        clearInterval(timer);\n",
       "      }\n",
       "    }, 10, root)\n",
       "  }\n",
       "})(window);"
      ],
      "application/vnd.bokehjs_exec.v0+json": ""
     },
     "metadata": {
      "application/vnd.bokehjs_exec.v0+json": {
       "id": "1105"
      }
     },
     "output_type": "display_data"
    },
    {
     "data": {
      "text/html": [
       "\n",
       "\n",
       "\n",
       "\n",
       "\n",
       "\n",
       "  <div class=\"bk-root\" id=\"ec21a1ca-ca18-4880-8305-01f10b55970d\" data-root-id=\"1156\"></div>\n"
      ]
     },
     "metadata": {},
     "output_type": "display_data"
    },
    {
     "data": {
      "application/javascript": [
       "(function(root) {\n",
       "  function embed_document(root) {\n",
       "    \n",
       "  var docs_json = {\"98308f08-b829-40d5-a426-ec41f10d6e63\":{\"roots\":{\"references\":[{\"attributes\":{\"background_fill_color\":{\"value\":\"#efefef\"},\"below\":[{\"id\":\"1166\",\"type\":\"LinearAxis\"}],\"left\":[{\"id\":\"1171\",\"type\":\"LinearAxis\"}],\"plot_height\":300,\"plot_width\":300,\"renderers\":[{\"id\":\"1166\",\"type\":\"LinearAxis\"},{\"id\":\"1170\",\"type\":\"Grid\"},{\"id\":\"1171\",\"type\":\"LinearAxis\"},{\"id\":\"1175\",\"type\":\"Grid\"},{\"id\":\"1184\",\"type\":\"BoxAnnotation\"},{\"id\":\"1194\",\"type\":\"GlyphRenderer\"},{\"id\":\"1199\",\"type\":\"GlyphRenderer\"},{\"id\":\"1204\",\"type\":\"GlyphRenderer\"},{\"id\":\"1209\",\"type\":\"GlyphRenderer\"}],\"title\":{\"id\":\"1155\",\"type\":\"Title\"},\"toolbar\":{\"id\":\"1182\",\"type\":\"Toolbar\"},\"toolbar_location\":null,\"x_range\":{\"id\":\"1158\",\"type\":\"Range1d\"},\"x_scale\":{\"id\":\"1162\",\"type\":\"LinearScale\"},\"y_range\":{\"id\":\"1160\",\"type\":\"Range1d\"},\"y_scale\":{\"id\":\"1164\",\"type\":\"LinearScale\"}},\"id\":\"1156\",\"subtype\":\"Figure\",\"type\":\"Plot\"},{\"attributes\":{},\"id\":\"1167\",\"type\":\"BasicTicker\"},{\"attributes\":{\"plot\":null,\"text\":\"output\"},\"id\":\"1155\",\"type\":\"Title\"},{\"attributes\":{\"source\":{\"id\":\"1100\",\"type\":\"ColumnDataSource\"}},\"id\":\"1200\",\"type\":\"CDSView\"},{\"attributes\":{},\"id\":\"1172\",\"type\":\"BasicTicker\"},{\"attributes\":{\"fill_color\":{\"value\":\"blue\"},\"line_color\":{\"value\":\"blue\"},\"size\":{\"units\":\"screen\",\"value\":10},\"x\":{\"field\":\"x\"},\"y\":{\"field\":\"y\"}},\"id\":\"1202\",\"type\":\"Cross\"},{\"attributes\":{\"data_source\":{\"id\":\"1100\",\"type\":\"ColumnDataSource\"},\"glyph\":{\"id\":\"1197\",\"type\":\"Circle\"},\"hover_glyph\":null,\"muted_glyph\":null,\"nonselection_glyph\":{\"id\":\"1198\",\"type\":\"Circle\"},\"selection_glyph\":null,\"view\":{\"id\":\"1200\",\"type\":\"CDSView\"}},\"id\":\"1199\",\"type\":\"GlyphRenderer\"},{\"attributes\":{},\"id\":\"1334\",\"type\":\"Selection\"},{\"attributes\":{\"line_alpha\":0.1,\"line_color\":\"#1f77b4\",\"line_width\":1.5,\"x\":{\"field\":\"x\"},\"y\":{\"field\":\"y\"}},\"id\":\"1193\",\"type\":\"Line\"},{\"attributes\":{\"fill_alpha\":{\"value\":0.1},\"fill_color\":{\"value\":\"#1f77b4\"},\"line_alpha\":{\"value\":0.1},\"line_color\":{\"value\":\"#1f77b4\"},\"size\":{\"units\":\"screen\",\"value\":10},\"x\":{\"field\":\"x\"},\"y\":{\"field\":\"y\"}},\"id\":\"1203\",\"type\":\"Cross\"},{\"attributes\":{\"fill_alpha\":{\"value\":0.1},\"fill_color\":{\"value\":\"#1f77b4\"},\"line_alpha\":{\"value\":0.1},\"line_color\":{\"value\":\"#1f77b4\"},\"size\":{\"units\":\"screen\",\"value\":10},\"x\":{\"field\":\"x\"},\"y\":{\"field\":\"y\"}},\"id\":\"1198\",\"type\":\"Circle\"},{\"attributes\":{\"dimension\":1,\"plot\":{\"id\":\"1156\",\"subtype\":\"Figure\",\"type\":\"Plot\"},\"ticker\":{\"id\":\"1172\",\"type\":\"BasicTicker\"}},\"id\":\"1175\",\"type\":\"Grid\"},{\"attributes\":{},\"id\":\"1335\",\"type\":\"UnionRenderers\"},{\"attributes\":{\"data_source\":{\"id\":\"1101\",\"type\":\"ColumnDataSource\"},\"glyph\":{\"id\":\"1202\",\"type\":\"Cross\"},\"hover_glyph\":null,\"muted_glyph\":null,\"nonselection_glyph\":{\"id\":\"1203\",\"type\":\"Cross\"},\"selection_glyph\":null,\"view\":{\"id\":\"1205\",\"type\":\"CDSView\"}},\"id\":\"1204\",\"type\":\"GlyphRenderer\"},{\"attributes\":{\"fill_color\":{\"value\":\"white\"},\"line_color\":{\"value\":\"#1f77b4\"},\"size\":{\"units\":\"screen\",\"value\":10},\"x\":{\"field\":\"x\"},\"y\":{\"field\":\"y\"}},\"id\":\"1197\",\"type\":\"Circle\"},{\"attributes\":{\"line_alpha\":0.8,\"line_color\":\"#3030ff\",\"line_width\":1.5,\"x\":{\"field\":\"x\"},\"y\":{\"field\":\"y\"}},\"id\":\"1192\",\"type\":\"Line\"},{\"attributes\":{\"source\":{\"id\":\"1101\",\"type\":\"ColumnDataSource\"}},\"id\":\"1205\",\"type\":\"CDSView\"},{\"attributes\":{\"active_drag\":null,\"active_inspect\":\"auto\",\"active_multi\":null,\"active_scroll\":\"auto\",\"active_tap\":\"auto\",\"tools\":[{\"id\":\"1176\",\"type\":\"PanTool\"},{\"id\":\"1177\",\"type\":\"WheelZoomTool\"},{\"id\":\"1178\",\"type\":\"BoxZoomTool\"},{\"id\":\"1179\",\"type\":\"SaveTool\"},{\"id\":\"1180\",\"type\":\"ResetTool\"},{\"id\":\"1181\",\"type\":\"HelpTool\"}]},\"id\":\"1182\",\"type\":\"Toolbar\"},{\"attributes\":{},\"id\":\"1177\",\"type\":\"WheelZoomTool\"},{\"attributes\":{\"source\":{\"id\":\"1191\",\"type\":\"ColumnDataSource\"}},\"id\":\"1195\",\"type\":\"CDSView\"},{\"attributes\":{},\"id\":\"1176\",\"type\":\"PanTool\"},{\"attributes\":{\"fill_color\":{\"value\":\"red\"},\"line_color\":{\"value\":\"red\"},\"size\":{\"units\":\"screen\",\"value\":10},\"x\":{\"field\":\"x\"},\"y\":{\"field\":\"y\"}},\"id\":\"1207\",\"type\":\"Cross\"},{\"attributes\":{},\"id\":\"1329\",\"type\":\"UnionRenderers\"},{\"attributes\":{\"callback\":null,\"end\":10},\"id\":\"1158\",\"type\":\"Range1d\"},{\"attributes\":{\"fill_alpha\":{\"value\":0.1},\"fill_color\":{\"value\":\"#1f77b4\"},\"line_alpha\":{\"value\":0.1},\"line_color\":{\"value\":\"#1f77b4\"},\"size\":{\"units\":\"screen\",\"value\":10},\"x\":{\"field\":\"x\"},\"y\":{\"field\":\"y\"}},\"id\":\"1208\",\"type\":\"Cross\"},{\"attributes\":{\"overlay\":{\"id\":\"1184\",\"type\":\"BoxAnnotation\"}},\"id\":\"1178\",\"type\":\"BoxZoomTool\"},{\"attributes\":{\"bottom_units\":\"screen\",\"fill_alpha\":{\"value\":0.5},\"fill_color\":{\"value\":\"lightgrey\"},\"left_units\":\"screen\",\"level\":\"overlay\",\"line_alpha\":{\"value\":1.0},\"line_color\":{\"value\":\"black\"},\"line_dash\":[4,4],\"line_width\":{\"value\":2},\"plot\":null,\"render_mode\":\"css\",\"right_units\":\"screen\",\"top_units\":\"screen\"},\"id\":\"1184\",\"type\":\"BoxAnnotation\"},{\"attributes\":{\"data_source\":{\"id\":\"1102\",\"type\":\"ColumnDataSource\"},\"glyph\":{\"id\":\"1207\",\"type\":\"Cross\"},\"hover_glyph\":null,\"muted_glyph\":null,\"nonselection_glyph\":{\"id\":\"1208\",\"type\":\"Cross\"},\"selection_glyph\":null,\"view\":{\"id\":\"1210\",\"type\":\"CDSView\"}},\"id\":\"1209\",\"type\":\"GlyphRenderer\"},{\"attributes\":{\"data_source\":{\"id\":\"1191\",\"type\":\"ColumnDataSource\"},\"glyph\":{\"id\":\"1192\",\"type\":\"Line\"},\"hover_glyph\":null,\"muted_glyph\":null,\"nonselection_glyph\":{\"id\":\"1193\",\"type\":\"Line\"},\"selection_glyph\":null,\"view\":{\"id\":\"1195\",\"type\":\"CDSView\"}},\"id\":\"1194\",\"type\":\"GlyphRenderer\"},{\"attributes\":{\"source\":{\"id\":\"1102\",\"type\":\"ColumnDataSource\"}},\"id\":\"1210\",\"type\":\"CDSView\"},{\"attributes\":{},\"id\":\"1328\",\"type\":\"BasicTickFormatter\"},{\"attributes\":{\"callback\":null,\"data\":{\"x\":[46,47,48,49],\"y\":{\"__ndarray__\":\"AAAAAABgYUAAAAAAAOBTQM3MzMzM7FNAmpmZmZmZSUA=\",\"dtype\":\"float64\",\"shape\":[4]}},\"selected\":{\"id\":\"1332\",\"type\":\"Selection\"},\"selection_policy\":{\"id\":\"1331\",\"type\":\"UnionRenderers\"}},\"id\":\"1100\",\"type\":\"ColumnDataSource\"},{\"attributes\":{\"callback\":null,\"data\":{\"x\":[50],\"y\":[20.3]},\"selected\":{\"id\":\"1334\",\"type\":\"Selection\"},\"selection_policy\":{\"id\":\"1333\",\"type\":\"UnionRenderers\"}},\"id\":\"1101\",\"type\":\"ColumnDataSource\"},{\"attributes\":{},\"id\":\"1332\",\"type\":\"Selection\"},{\"attributes\":{\"callback\":null,\"end\":10},\"id\":\"1160\",\"type\":\"Range1d\"},{\"attributes\":{\"callback\":null,\"data\":{\"x\":{\"__ndarray__\":\"AAAAAAEAAAACAAAAAwAAAAQAAAAFAAAABgAAAAcAAAAIAAAACQAAAAoAAAALAAAADAAAAA0AAAAOAAAADwAAABAAAAARAAAAEgAAABMAAAAUAAAAFQAAABYAAAAXAAAAGAAAABkAAAAaAAAAGwAAABwAAAAdAAAAHgAAAB8AAAAgAAAAIQAAACIAAAAjAAAAJAAAACUAAAAmAAAAJwAAACgAAAApAAAAKgAAACsAAAAsAAAALQAAAC4AAAAvAAAAMAAAADEAAAAyAAAAMwAAADQAAAA1AAAANgAAADcAAAA4AAAAOQAAADoAAAA7AAAAPAAAAD0AAAA+AAAAPwAAAEAAAABBAAAAQgAAAEMAAABEAAAARQAAAEYAAABHAAAASAAAAEkAAABKAAAASwAAAEwAAABNAAAATgAAAE8AAABQAAAAUQAAAFIAAABTAAAAVAAAAFUAAABWAAAAVwAAAFgAAABZAAAAWgAAAFsAAABcAAAAXQAAAF4AAABfAAAAYAAAAGEAAABiAAAAYwAAAGQAAABlAAAAZgAAAGcAAABoAAAAaQAAAGoAAABrAAAAbAAAAG0AAABuAAAAbwAAAHAAAABxAAAAcgAAAHMAAAB0AAAAdQAAAHYAAAB3AAAAeAAAAHkAAAB6AAAAewAAAHwAAAB9AAAAfgAAAH8AAACAAAAAgQAAAIIAAACDAAAAhAAAAIUAAACGAAAAhwAAAIgAAACJAAAAigAAAIsAAACMAAAAjQAAAI4AAACPAAAAkAAAAJEAAACSAAAAkwAAAJQAAACVAAAAlgAAAJcAAACYAAAAmQAAAJoAAACbAAAAnAAAAJ0AAACeAAAAnwAAAKAAAAChAAAAogAAAKMAAACkAAAApQAAAKYAAACnAAAAqAAAAKkAAACqAAAAqwAAAKwAAACtAAAArgAAAK8AAACwAAAAsQAAALIAAACzAAAAtAAAALUAAAC2AAAAtwAAALgAAAC5AAAAugAAALsAAAC8AAAAvQAAAL4AAAC/AAAAwAAAAMEAAADCAAAAwwAAAMQAAADFAAAAxgAAAMcAAADIAAAAyQAAAMoAAADLAAAAzAAAAM0AAADOAAAAzwAAANAAAADRAAAA0gAAANMAAADUAAAA1QAAANYAAADXAAAA2AAAANkAAADaAAAA2wAAANwAAADdAAAA3gAAAN8AAADgAAAA4QAAAOIAAADjAAAA5AAAAOUAAADmAAAA5wAAAOgAAADpAAAA6gAAAOsAAADsAAAA7QAAAO4AAADvAAAA8AAAAPEAAADyAAAA8wAAAPQAAAD1AAAA9gAAAPcAAAD4AAAA+QAAAPoAAAD7AAAA/AAAAP0AAAD+AAAA/wAAAAABAAABAQAAAgEAAAMBAAAEAQAABQEAAAYBAAAHAQAACAEAAAkBAAAKAQAACwEAAAwBAAANAQAADgEAAA8BAAAQAQAAEQEAABIBAAATAQAAFAEAABUBAAAWAQAAFwEAABgBAAAZAQAAGgEAABsBAAAcAQAAHQEAAB4BAAAfAQAAIAEAACEBAAAiAQAAIwEAACQBAAAlAQAAJgEAACcBAAAoAQAAKQEAACoBAAArAQAALAEAAC0BAAAuAQAALwEAADABAAAxAQAAMgEAADMBAAA0AQAANQEAADYBAAA3AQAAOAEAADkBAAA=\",\"dtype\":\"int32\",\"shape\":[314]},\"y\":{\"__ndarray__\":\"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\",\"dtype\":\"float64\",\"shape\":[314]}},\"selected\":{\"id\":\"1330\",\"type\":\"Selection\"},\"selection_policy\":{\"id\":\"1329\",\"type\":\"UnionRenderers\"}},\"id\":\"1191\",\"type\":\"ColumnDataSource\"},{\"attributes\":{\"callback\":null,\"data\":{\"x\":[50],\"y\":[37.044333532142105]},\"selected\":{\"id\":\"1336\",\"type\":\"Selection\"},\"selection_policy\":{\"id\":\"1335\",\"type\":\"UnionRenderers\"}},\"id\":\"1102\",\"type\":\"ColumnDataSource\"},{\"attributes\":{},\"id\":\"1330\",\"type\":\"Selection\"},{\"attributes\":{},\"id\":\"1162\",\"type\":\"LinearScale\"},{\"attributes\":{},\"id\":\"1326\",\"type\":\"BasicTickFormatter\"},{\"attributes\":{},\"id\":\"1179\",\"type\":\"SaveTool\"},{\"attributes\":{\"formatter\":{\"id\":\"1326\",\"type\":\"BasicTickFormatter\"},\"plot\":{\"id\":\"1156\",\"subtype\":\"Figure\",\"type\":\"Plot\"},\"ticker\":{\"id\":\"1167\",\"type\":\"BasicTicker\"}},\"id\":\"1166\",\"type\":\"LinearAxis\"},{\"attributes\":{},\"id\":\"1333\",\"type\":\"UnionRenderers\"},{\"attributes\":{\"plot\":{\"id\":\"1156\",\"subtype\":\"Figure\",\"type\":\"Plot\"},\"ticker\":{\"id\":\"1167\",\"type\":\"BasicTicker\"}},\"id\":\"1170\",\"type\":\"Grid\"},{\"attributes\":{},\"id\":\"1164\",\"type\":\"LinearScale\"},{\"attributes\":{},\"id\":\"1331\",\"type\":\"UnionRenderers\"},{\"attributes\":{},\"id\":\"1180\",\"type\":\"ResetTool\"},{\"attributes\":{},\"id\":\"1336\",\"type\":\"Selection\"},{\"attributes\":{\"formatter\":{\"id\":\"1328\",\"type\":\"BasicTickFormatter\"},\"plot\":{\"id\":\"1156\",\"subtype\":\"Figure\",\"type\":\"Plot\"},\"ticker\":{\"id\":\"1172\",\"type\":\"BasicTicker\"}},\"id\":\"1171\",\"type\":\"LinearAxis\"},{\"attributes\":{},\"id\":\"1181\",\"type\":\"HelpTool\"}],\"root_ids\":[\"1156\"]},\"title\":\"Bokeh Application\",\"version\":\"1.0.4\"}};\n",
       "  var render_items = [{\"docid\":\"98308f08-b829-40d5-a426-ec41f10d6e63\",\"notebook_comms_target\":\"1338\",\"roots\":{\"1156\":\"ec21a1ca-ca18-4880-8305-01f10b55970d\"}}];\n",
       "  root.Bokeh.embed.embed_items_notebook(docs_json, render_items);\n",
       "\n",
       "  }\n",
       "  if (root.Bokeh !== undefined) {\n",
       "    embed_document(root);\n",
       "  } else {\n",
       "    var attempts = 0;\n",
       "    var timer = setInterval(function(root) {\n",
       "      if (root.Bokeh !== undefined) {\n",
       "        embed_document(root);\n",
       "        clearInterval(timer);\n",
       "      }\n",
       "      attempts++;\n",
       "      if (attempts > 100) {\n",
       "        console.log(\"Bokeh: ERROR: Unable to run BokehJS code because BokehJS library is missing\");\n",
       "        clearInterval(timer);\n",
       "      }\n",
       "    }, 10, root)\n",
       "  }\n",
       "})(window);"
      ],
      "application/vnd.bokehjs_exec.v0+json": ""
     },
     "metadata": {
      "application/vnd.bokehjs_exec.v0+json": {
       "id": "1156"
      }
     },
     "output_type": "display_data"
    },
    {
     "data": {
      "application/vnd.jupyter.widget-view+json": {
       "model_id": "84596ea1d37b4b90999cb15236d15444",
       "version_major": 2,
       "version_minor": 0
      },
      "text/plain": [
       "interactive(children=(IntSlider(value=156, description='x_slice', max=313), IntSlider(value=50, description='s…"
      ]
     },
     "metadata": {},
     "output_type": "display_data"
    },
    {
     "data": {
      "text/plain": [
       "<function __main__.update_hline(x_slice, scale)>"
      ]
     },
     "execution_count": 16,
     "metadata": {},
     "output_type": "execute_result"
    }
   ],
   "source": [
    "print_details()\n",
    "print(\"R^2 score is: {}\".format(r_squared))\n",
    "print(\"\\nBlue: Data \\nRed: Predicted\")\n",
    "h1 = show(plot_1, notebook_handle=True)\n",
    "h2 = show(plot_2, notebook_handle=True) \n",
    "interact(update_hline,x_slice = (0,samples-1), scale = (0,100))\n",
    "    \n"
   ]
  },
  {
   "cell_type": "code",
   "execution_count": 17,
   "metadata": {},
   "outputs": [
    {
     "ename": "SyntaxError",
     "evalue": "invalid syntax (<ipython-input-17-aa1d7742a01d>, line 2)",
     "output_type": "error",
     "traceback": [
      "\u001b[1;36m  File \u001b[1;32m\"<ipython-input-17-aa1d7742a01d>\"\u001b[1;36m, line \u001b[1;32m2\u001b[0m\n\u001b[1;33m    print est.score(predict_y,train_y)\u001b[0m\n\u001b[1;37m            ^\u001b[0m\n\u001b[1;31mSyntaxError\u001b[0m\u001b[1;31m:\u001b[0m invalid syntax\n"
     ]
    }
   ],
   "source": [
    "print(est._program)\n",
    "print est.score(predict_y,train_y)"
   ]
  },
  {
   "cell_type": "code",
   "execution_count": null,
   "metadata": {},
   "outputs": [],
   "source": [
    "graph = pydotplus.graphviz.graph_from_dot_data(est._program.export_graphviz())\n",
    "Image(graph.create_png())"
   ]
  },
  {
   "cell_type": "code",
   "execution_count": null,
   "metadata": {},
   "outputs": [],
   "source": []
  },
  {
   "cell_type": "code",
   "execution_count": null,
   "metadata": {},
   "outputs": [],
   "source": []
  },
  {
   "cell_type": "code",
   "execution_count": null,
   "metadata": {},
   "outputs": [],
   "source": []
  },
  {
   "cell_type": "code",
   "execution_count": null,
   "metadata": {},
   "outputs": [],
   "source": []
  }
 ],
 "metadata": {
  "kernelspec": {
   "display_name": "Python 3",
   "language": "python",
   "name": "python3"
  },
  "language_info": {
   "codemirror_mode": {
    "name": "ipython",
    "version": 3
   },
   "file_extension": ".py",
   "mimetype": "text/x-python",
   "name": "python",
   "nbconvert_exporter": "python",
   "pygments_lexer": "ipython3",
   "version": "3.6.8"
  },
  "widgets": {
   "application/vnd.jupyter.widget-state+json": {
    "state": {
     "0148c9e2988c41059fe641944b6bf550": {
      "model_module": "@jupyter-widgets/base",
      "model_module_version": "1.1.0",
      "model_name": "LayoutModel",
      "state": {}
     },
     "2e50091033d14d87aa68b36687487f15": {
      "model_module": "@jupyter-widgets/controls",
      "model_module_version": "1.4.0",
      "model_name": "VBoxModel",
      "state": {
       "_dom_classes": [
        "widget-interact"
       ],
       "children": [
        "IPY_MODEL_e17f43ff07404c9ea1d8641a7fc42174",
        "IPY_MODEL_65e0e13f5d7445e78c7bfe7910e295a4",
        "IPY_MODEL_6b4a7580fb07455196f09db8e6269c9e"
       ],
       "layout": "IPY_MODEL_8dd40e48233b4a6f9b38e7f2d038b830"
      }
     },
     "36893615eda14309b953a752dbc8ab16": {
      "model_module": "@jupyter-widgets/controls",
      "model_module_version": "1.4.0",
      "model_name": "IntSliderModel",
      "state": {
       "description": "x_slice",
       "layout": "IPY_MODEL_d8ef99896740496abaf74f3722981d5d",
       "max": 313,
       "style": "IPY_MODEL_a490e66eba34429fba7819ac85a7da0f",
       "value": 117
      }
     },
     "3a6cf72e524e43b58b586df4095a35ed": {
      "model_module": "@jupyter-widgets/controls",
      "model_module_version": "1.4.0",
      "model_name": "IntSliderModel",
      "state": {
       "description": "x_slice",
       "layout": "IPY_MODEL_7a8c7a6571c041bdae637aac487e2a07",
       "max": 313,
       "style": "IPY_MODEL_62e4d8556a644442b914ac7fda287d0d",
       "value": 156
      }
     },
     "3bc655c9691c4499a809277d0687dd6b": {
      "model_module": "@jupyter-widgets/base",
      "model_module_version": "1.1.0",
      "model_name": "LayoutModel",
      "state": {}
     },
     "3d690c04611e4ae583a0601a3e5b8217": {
      "model_module": "@jupyter-widgets/controls",
      "model_module_version": "1.4.0",
      "model_name": "IntSliderModel",
      "state": {
       "description": "scale",
       "layout": "IPY_MODEL_a12d8639ec3143f6a45ddcae02600c21",
       "style": "IPY_MODEL_8dec84f25241450298a86ecf10fb8b15",
       "value": 25
      }
     },
     "40d8ca11e8dc405ea7de6745bd0c20ef": {
      "model_module": "@jupyter-widgets/base",
      "model_module_version": "1.1.0",
      "model_name": "LayoutModel",
      "state": {}
     },
     "429ee0916fc745a6b01fa4f3f4265200": {
      "model_module": "@jupyter-widgets/controls",
      "model_module_version": "1.4.0",
      "model_name": "IntSliderModel",
      "state": {
       "description": "scale",
       "layout": "IPY_MODEL_99447b6809a049d2ab87701d7a20a9c6",
       "style": "IPY_MODEL_e1964f508e784ac39ef52a11ac28b53f",
       "value": 29
      }
     },
     "47969e5b420d4ce7af9f3df99bbd8f16": {
      "model_module": "@jupyter-widgets/output",
      "model_module_version": "1.0.0",
      "model_name": "OutputModel",
      "state": {
       "layout": "IPY_MODEL_4f56986ee7de455e9535bfc84605df77",
       "outputs": [
        {
         "name": "stdout",
         "output_type": "stream",
         "text": "152\n156\n"
        }
       ]
      }
     },
     "496b4300c6b6439fa23720a6ef8199f8": {
      "model_module": "@jupyter-widgets/controls",
      "model_module_version": "1.4.0",
      "model_name": "SliderStyleModel",
      "state": {
       "description_width": ""
      }
     },
     "4bd3d970e56b42628372197869ccdf6a": {
      "model_module": "@jupyter-widgets/controls",
      "model_module_version": "1.4.0",
      "model_name": "IntSliderModel",
      "state": {
       "description": "scale",
       "layout": "IPY_MODEL_83151ce4ecbf48e8a4016c87ecfbdb89",
       "style": "IPY_MODEL_7fc5309477ce4273bb427dd272dba022",
       "value": 50
      }
     },
     "4f56986ee7de455e9535bfc84605df77": {
      "model_module": "@jupyter-widgets/base",
      "model_module_version": "1.1.0",
      "model_name": "LayoutModel",
      "state": {}
     },
     "514ea2ae521e4be882e7adafafaf7f61": {
      "model_module": "@jupyter-widgets/output",
      "model_module_version": "1.0.0",
      "model_name": "OutputModel",
      "state": {
       "layout": "IPY_MODEL_e54b63dff0ec4acba7c1a97f073de374",
       "outputs": [
        {
         "name": "stdout",
         "output_type": "stream",
         "text": "113\n117\n"
        }
       ]
      }
     },
     "57acedee83c5419b8e50f8be0ff49ef3": {
      "model_module": "@jupyter-widgets/base",
      "model_module_version": "1.1.0",
      "model_name": "LayoutModel",
      "state": {}
     },
     "5dff19fa74cf4326b66af0a5d9969994": {
      "model_module": "@jupyter-widgets/controls",
      "model_module_version": "1.4.0",
      "model_name": "VBoxModel",
      "state": {
       "_dom_classes": [
        "widget-interact"
       ],
       "children": [
        "IPY_MODEL_d91c5d21990e468195aa3838e897517f",
        "IPY_MODEL_4bd3d970e56b42628372197869ccdf6a",
        "IPY_MODEL_8b3269e34fe6453a90390b07f4fbcd8b"
       ],
       "layout": "IPY_MODEL_f3d0b915d29e402eabcc8b36c57b0d4b"
      }
     },
     "5f5060fc5d994cafb2eb983305b39b34": {
      "model_module": "@jupyter-widgets/base",
      "model_module_version": "1.1.0",
      "model_name": "LayoutModel",
      "state": {}
     },
     "62e4d8556a644442b914ac7fda287d0d": {
      "model_module": "@jupyter-widgets/controls",
      "model_module_version": "1.4.0",
      "model_name": "SliderStyleModel",
      "state": {
       "description_width": ""
      }
     },
     "65e0e13f5d7445e78c7bfe7910e295a4": {
      "model_module": "@jupyter-widgets/controls",
      "model_module_version": "1.4.0",
      "model_name": "IntSliderModel",
      "state": {
       "description": "scale",
       "layout": "IPY_MODEL_aa8e47fd13f4429eb8909adc1fb83db1",
       "style": "IPY_MODEL_496b4300c6b6439fa23720a6ef8199f8",
       "value": 50
      }
     },
     "6b4a7580fb07455196f09db8e6269c9e": {
      "model_module": "@jupyter-widgets/output",
      "model_module_version": "1.0.0",
      "model_name": "OutputModel",
      "state": {
       "layout": "IPY_MODEL_e2080c9f72a443b58d8da915ec806e74",
       "outputs": [
        {
         "name": "stdout",
         "output_type": "stream",
         "text": "152\n156\n"
        }
       ]
      }
     },
     "6ce18a4eafca42ea90d12a97be0a712e": {
      "model_module": "@jupyter-widgets/controls",
      "model_module_version": "1.4.0",
      "model_name": "SliderStyleModel",
      "state": {
       "description_width": ""
      }
     },
     "7a8c7a6571c041bdae637aac487e2a07": {
      "model_module": "@jupyter-widgets/base",
      "model_module_version": "1.1.0",
      "model_name": "LayoutModel",
      "state": {}
     },
     "7a8c912a0bbc48aba02ba4ab38efa53f": {
      "model_module": "@jupyter-widgets/controls",
      "model_module_version": "1.4.0",
      "model_name": "SliderStyleModel",
      "state": {
       "description_width": ""
      }
     },
     "7fc5309477ce4273bb427dd272dba022": {
      "model_module": "@jupyter-widgets/controls",
      "model_module_version": "1.4.0",
      "model_name": "SliderStyleModel",
      "state": {
       "description_width": ""
      }
     },
     "83151ce4ecbf48e8a4016c87ecfbdb89": {
      "model_module": "@jupyter-widgets/base",
      "model_module_version": "1.1.0",
      "model_name": "LayoutModel",
      "state": {}
     },
     "84596ea1d37b4b90999cb15236d15444": {
      "model_module": "@jupyter-widgets/controls",
      "model_module_version": "1.4.0",
      "model_name": "VBoxModel",
      "state": {
       "_dom_classes": [
        "widget-interact"
       ],
       "children": [
        "IPY_MODEL_e8c5713e178d41ea8f7b0510ff2f83ff",
        "IPY_MODEL_429ee0916fc745a6b01fa4f3f4265200",
        "IPY_MODEL_8f38794b2d214f4fb6ce349960a97e2d"
       ],
       "layout": "IPY_MODEL_0148c9e2988c41059fe641944b6bf550"
      }
     },
     "8b3269e34fe6453a90390b07f4fbcd8b": {
      "model_module": "@jupyter-widgets/output",
      "model_module_version": "1.0.0",
      "model_name": "OutputModel",
      "state": {
       "layout": "IPY_MODEL_5f5060fc5d994cafb2eb983305b39b34",
       "outputs": [
        {
         "name": "stdout",
         "output_type": "stream",
         "text": "152\n156\n"
        }
       ]
      }
     },
     "8d04d94dfac44c2489d51f4dfe275c7d": {
      "model_module": "@jupyter-widgets/base",
      "model_module_version": "1.1.0",
      "model_name": "LayoutModel",
      "state": {}
     },
     "8d1026d8991d48509075308952f8e690": {
      "model_module": "@jupyter-widgets/controls",
      "model_module_version": "1.4.0",
      "model_name": "VBoxModel",
      "state": {
       "_dom_classes": [
        "widget-interact"
       ],
       "children": [
        "IPY_MODEL_3a6cf72e524e43b58b586df4095a35ed",
        "IPY_MODEL_f6c62f97498b49a0ad7185830b2e58f8",
        "IPY_MODEL_47969e5b420d4ce7af9f3df99bbd8f16"
       ],
       "layout": "IPY_MODEL_d6fc1f3c514a465c9bec1ae56e68de9c"
      }
     },
     "8dd40e48233b4a6f9b38e7f2d038b830": {
      "model_module": "@jupyter-widgets/base",
      "model_module_version": "1.1.0",
      "model_name": "LayoutModel",
      "state": {}
     },
     "8dec84f25241450298a86ecf10fb8b15": {
      "model_module": "@jupyter-widgets/controls",
      "model_module_version": "1.4.0",
      "model_name": "SliderStyleModel",
      "state": {
       "description_width": ""
      }
     },
     "8f38794b2d214f4fb6ce349960a97e2d": {
      "model_module": "@jupyter-widgets/output",
      "model_module_version": "1.0.0",
      "model_name": "OutputModel",
      "state": {
       "layout": "IPY_MODEL_57acedee83c5419b8e50f8be0ff49ef3",
       "outputs": [
        {
         "name": "stdout",
         "output_type": "stream",
         "text": "158\n162\n"
        }
       ]
      }
     },
     "8f71b16dc2b34493a09f0ca1865d69e3": {
      "model_module": "@jupyter-widgets/controls",
      "model_module_version": "1.4.0",
      "model_name": "SliderStyleModel",
      "state": {
       "description_width": ""
      }
     },
     "8f8d08210824444baac9bab22eb4a0f8": {
      "model_module": "@jupyter-widgets/controls",
      "model_module_version": "1.4.0",
      "model_name": "IntSliderModel",
      "state": {
       "description": "x_slice",
       "layout": "IPY_MODEL_c7ae658e504a4787ad3a350cc68cd652",
       "max": 313,
       "style": "IPY_MODEL_7a8c912a0bbc48aba02ba4ab38efa53f",
       "value": 156
      }
     },
     "939e25b30fba47fc8e26a3bf6e7a3f10": {
      "model_module": "@jupyter-widgets/controls",
      "model_module_version": "1.4.0",
      "model_name": "SliderStyleModel",
      "state": {
       "description_width": ""
      }
     },
     "99447b6809a049d2ab87701d7a20a9c6": {
      "model_module": "@jupyter-widgets/base",
      "model_module_version": "1.1.0",
      "model_name": "LayoutModel",
      "state": {}
     },
     "9bef6ca86b764fe895095ec8d5a9c43e": {
      "model_module": "@jupyter-widgets/base",
      "model_module_version": "1.1.0",
      "model_name": "LayoutModel",
      "state": {}
     },
     "a12d8639ec3143f6a45ddcae02600c21": {
      "model_module": "@jupyter-widgets/base",
      "model_module_version": "1.1.0",
      "model_name": "LayoutModel",
      "state": {}
     },
     "a490e66eba34429fba7819ac85a7da0f": {
      "model_module": "@jupyter-widgets/controls",
      "model_module_version": "1.4.0",
      "model_name": "SliderStyleModel",
      "state": {
       "description_width": ""
      }
     },
     "aa8e47fd13f4429eb8909adc1fb83db1": {
      "model_module": "@jupyter-widgets/base",
      "model_module_version": "1.1.0",
      "model_name": "LayoutModel",
      "state": {}
     },
     "b010b74e00eb424aa705fbb57c163358": {
      "model_module": "@jupyter-widgets/controls",
      "model_module_version": "1.4.0",
      "model_name": "IntSliderModel",
      "state": {
       "description": "scale",
       "layout": "IPY_MODEL_d38360d279e6448db18847dc1175a1c2",
       "style": "IPY_MODEL_6ce18a4eafca42ea90d12a97be0a712e",
       "value": 50
      }
     },
     "b7e2090a3f244b4db4a41eeb60c8599b": {
      "model_module": "@jupyter-widgets/base",
      "model_module_version": "1.1.0",
      "model_name": "LayoutModel",
      "state": {}
     },
     "bf53b491e0c545ccaecca83cc11a1cab": {
      "model_module": "@jupyter-widgets/base",
      "model_module_version": "1.1.0",
      "model_name": "LayoutModel",
      "state": {}
     },
     "c7ae658e504a4787ad3a350cc68cd652": {
      "model_module": "@jupyter-widgets/base",
      "model_module_version": "1.1.0",
      "model_name": "LayoutModel",
      "state": {}
     },
     "cdb751ffcbd34c8297b798a74b1b8d1e": {
      "model_module": "@jupyter-widgets/controls",
      "model_module_version": "1.4.0",
      "model_name": "VBoxModel",
      "state": {
       "_dom_classes": [
        "widget-interact"
       ],
       "children": [
        "IPY_MODEL_8f8d08210824444baac9bab22eb4a0f8",
        "IPY_MODEL_b010b74e00eb424aa705fbb57c163358",
        "IPY_MODEL_fc44e804be1045d4a53b726a3a35fe7a"
       ],
       "layout": "IPY_MODEL_3bc655c9691c4499a809277d0687dd6b"
      }
     },
     "d2b18ca22e294ac18a0e026d483e5733": {
      "model_module": "@jupyter-widgets/controls",
      "model_module_version": "1.4.0",
      "model_name": "SliderStyleModel",
      "state": {
       "description_width": ""
      }
     },
     "d38360d279e6448db18847dc1175a1c2": {
      "model_module": "@jupyter-widgets/base",
      "model_module_version": "1.1.0",
      "model_name": "LayoutModel",
      "state": {}
     },
     "d6fc1f3c514a465c9bec1ae56e68de9c": {
      "model_module": "@jupyter-widgets/base",
      "model_module_version": "1.1.0",
      "model_name": "LayoutModel",
      "state": {}
     },
     "d8ef99896740496abaf74f3722981d5d": {
      "model_module": "@jupyter-widgets/base",
      "model_module_version": "1.1.0",
      "model_name": "LayoutModel",
      "state": {}
     },
     "d91c5d21990e468195aa3838e897517f": {
      "model_module": "@jupyter-widgets/controls",
      "model_module_version": "1.4.0",
      "model_name": "IntSliderModel",
      "state": {
       "description": "x_slice",
       "layout": "IPY_MODEL_9bef6ca86b764fe895095ec8d5a9c43e",
       "max": 313,
       "style": "IPY_MODEL_8f71b16dc2b34493a09f0ca1865d69e3",
       "value": 156
      }
     },
     "e17f43ff07404c9ea1d8641a7fc42174": {
      "model_module": "@jupyter-widgets/controls",
      "model_module_version": "1.4.0",
      "model_name": "IntSliderModel",
      "state": {
       "description": "x_slice",
       "layout": "IPY_MODEL_fc62ec5c06c04dc099538dac216381e3",
       "max": 313,
       "style": "IPY_MODEL_e1ef846709744237be0eae14c49656df",
       "value": 156
      }
     },
     "e1964f508e784ac39ef52a11ac28b53f": {
      "model_module": "@jupyter-widgets/controls",
      "model_module_version": "1.4.0",
      "model_name": "SliderStyleModel",
      "state": {
       "description_width": ""
      }
     },
     "e1ef846709744237be0eae14c49656df": {
      "model_module": "@jupyter-widgets/controls",
      "model_module_version": "1.4.0",
      "model_name": "SliderStyleModel",
      "state": {
       "description_width": ""
      }
     },
     "e2080c9f72a443b58d8da915ec806e74": {
      "model_module": "@jupyter-widgets/base",
      "model_module_version": "1.1.0",
      "model_name": "LayoutModel",
      "state": {}
     },
     "e54b63dff0ec4acba7c1a97f073de374": {
      "model_module": "@jupyter-widgets/base",
      "model_module_version": "1.1.0",
      "model_name": "LayoutModel",
      "state": {}
     },
     "e8c5713e178d41ea8f7b0510ff2f83ff": {
      "model_module": "@jupyter-widgets/controls",
      "model_module_version": "1.4.0",
      "model_name": "IntSliderModel",
      "state": {
       "description": "x_slice",
       "layout": "IPY_MODEL_bf53b491e0c545ccaecca83cc11a1cab",
       "max": 313,
       "style": "IPY_MODEL_939e25b30fba47fc8e26a3bf6e7a3f10",
       "value": 162
      }
     },
     "f37293b412614cdca02dab483260aab2": {
      "model_module": "@jupyter-widgets/controls",
      "model_module_version": "1.4.0",
      "model_name": "VBoxModel",
      "state": {
       "_dom_classes": [
        "widget-interact"
       ],
       "children": [
        "IPY_MODEL_36893615eda14309b953a752dbc8ab16",
        "IPY_MODEL_3d690c04611e4ae583a0601a3e5b8217",
        "IPY_MODEL_514ea2ae521e4be882e7adafafaf7f61"
       ],
       "layout": "IPY_MODEL_40d8ca11e8dc405ea7de6745bd0c20ef"
      }
     },
     "f3d0b915d29e402eabcc8b36c57b0d4b": {
      "model_module": "@jupyter-widgets/base",
      "model_module_version": "1.1.0",
      "model_name": "LayoutModel",
      "state": {}
     },
     "f6c62f97498b49a0ad7185830b2e58f8": {
      "model_module": "@jupyter-widgets/controls",
      "model_module_version": "1.4.0",
      "model_name": "IntSliderModel",
      "state": {
       "description": "scale",
       "layout": "IPY_MODEL_8d04d94dfac44c2489d51f4dfe275c7d",
       "style": "IPY_MODEL_d2b18ca22e294ac18a0e026d483e5733",
       "value": 50
      }
     },
     "fc44e804be1045d4a53b726a3a35fe7a": {
      "model_module": "@jupyter-widgets/output",
      "model_module_version": "1.0.0",
      "model_name": "OutputModel",
      "state": {
       "layout": "IPY_MODEL_b7e2090a3f244b4db4a41eeb60c8599b",
       "outputs": [
        {
         "name": "stdout",
         "output_type": "stream",
         "text": "152\n156\n"
        }
       ]
      }
     },
     "fc62ec5c06c04dc099538dac216381e3": {
      "model_module": "@jupyter-widgets/base",
      "model_module_version": "1.1.0",
      "model_name": "LayoutModel",
      "state": {}
     }
    },
    "version_major": 2,
    "version_minor": 0
   }
  }
 },
 "nbformat": 4,
 "nbformat_minor": 2
}
